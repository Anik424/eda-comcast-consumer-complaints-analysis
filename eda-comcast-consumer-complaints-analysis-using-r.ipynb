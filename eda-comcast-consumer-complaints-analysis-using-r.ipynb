{
 "cells": [
  {
   "cell_type": "markdown",
   "metadata": {
    "papermill": {
     "duration": 0.040182,
     "end_time": "2020-11-21T21:15:50.811406",
     "exception": false,
     "start_time": "2020-11-21T21:15:50.771224",
     "status": "completed"
    },
    "tags": []
   },
   "source": [
    "# Description:"
   ]
  },
  {
   "cell_type": "markdown",
   "metadata": {
    "papermill": {
     "duration": 0.0396,
     "end_time": "2020-11-21T21:15:50.889431",
     "exception": false,
     "start_time": "2020-11-21T21:15:50.849831",
     "status": "completed"
    },
    "tags": []
   },
   "source": [
    "Comcast is an American global telecommunication company. The firm has been providing terrible customer service. They continue to fall short despite repeated promises to improve. Only last month (October 2016) the authority fined them a $2.3 million, after receiving over 1000 consumer complaints.\n",
    "The existing database will serve as a repository of public customer complaints filed against Comcast.\n",
    "It will help to pin down what is wrong with Comcast's customer service.\n",
    "Data Dictionary\n",
    "Ticket #: Ticket number assigned to each complaint\n",
    "Customer Complaint: Description of complaint\n",
    "Date: Date of complaint\n",
    "Time: Time of complaint\n",
    "Received Via: Mode of communication of the complaint\n",
    "City: Customer city\n",
    "State: Customer state\n",
    "Zipcode: Customer zip\n",
    "Status: Status of complaint\n",
    "Filing on behalf of someone\n",
    "Analysis Task\n",
    "- Import data into R environment.\n",
    "- Provide the trend chart for the number of complaints at monthly and daily granularity levels.\n",
    "- Provide a table with the frequency of complaint types.\n",
    "Which complaint types are maximum i.e., around internet, network issues, or across any other domains.\n",
    "- Create a new categorical variable with value as Open and Closed. Open & Pending is to be categorized as Open and Closed & Solved is to be categorized as Closed.\n",
    "- Provide state wise status of complaints in a stacked bar chart. Use the categorized variable from Q3. Provide insights on:\n",
    "Which state has the maximum complaints\n",
    "Which state has the highest percentage of unresolved complaints\n",
    "- Provide the percentage of complaints resolved till date, which were received through the Internet and customer care calls.\n",
    "The analysis results to be provided with insights wherever applicable.\n",
    "\n",
    "\n"
   ]
  },
  {
   "cell_type": "markdown",
   "metadata": {},
   "source": [
    "EDA Performed by: Anik Chakraborty (waytoanik@outlook.com)"
   ]
  },
  {
   "cell_type": "markdown",
   "metadata": {
    "papermill": {
     "duration": 0.038216,
     "end_time": "2020-11-21T21:15:50.965981",
     "exception": false,
     "start_time": "2020-11-21T21:15:50.927765",
     "status": "completed"
    },
    "tags": []
   },
   "source": [
    "# EDA (Exploratory Data Analysis):"
   ]
  },
  {
   "cell_type": "code",
   "execution_count": 1,
   "metadata": {
    "_execution_state": "idle",
    "_uuid": "051d70d956493feee0c6d64651c6a088724dca2a",
    "execution": {
     "iopub.execute_input": "2020-11-21T21:15:51.076384Z",
     "iopub.status.busy": "2020-11-21T21:15:51.074532Z",
     "iopub.status.idle": "2020-11-21T21:15:51.940113Z",
     "shell.execute_reply": "2020-11-21T21:15:51.938594Z"
    },
    "papermill": {
     "duration": 0.936242,
     "end_time": "2020-11-21T21:15:51.940452",
     "exception": false,
     "start_time": "2020-11-21T21:15:51.004210",
     "status": "completed"
    },
    "tags": []
   },
   "outputs": [
    {
     "name": "stdout",
     "output_type": "stream",
     "text": [
      "'data.frame':\t2225 obs. of  11 variables:\n",
      " $ Ticket..                   : Factor w/ 2225 levels \"211255\",\"211472\",..: 371 124 307 611 849 1214 1763 1590 967 2111 ...\n",
      " $ Customer.Complaint         : Factor w/ 1842 levels \"(Comcast is not my complaint!) Cyber Tele-marketing is my complaint!\",..: 307 1520 1661 499 647 1354 1716 712 447 696 ...\n",
      " $ Date                       : Factor w/ 92 levels \"4/1/2015\",\"4/10/2015\",..: 15 29 10 59 49 65 78 77 62 83 ...\n",
      " $ Time                       : Factor w/ 2191 levels \"1:00:18 AM\",\"1:00:32 PM\",..: 1198 291 2166 652 89 2190 252 1666 594 1648 ...\n",
      " $ Received.Via               : Factor w/ 1 level \"Internet\": 1 1 1 1 1 1 1 1 1 1 ...\n",
      " $ City                       : Factor w/ 928 levels \"Abingdon\",\"Acworth\",..: 1 2 2 2 2 2 2 3 4 4 ...\n",
      " $ State                      : Factor w/ 43 levels \"Alabama\",\"Arizona\",..: 19 11 11 11 11 11 11 21 4 4 ...\n",
      " $ Zip.code                   : int  21009 30102 30101 30101 30101 30101 30101 49221 94502 94501 ...\n",
      " $ Status                     : Factor w/ 4 levels \"Closed\",\"Open\",..: 1 1 1 2 4 4 3 4 1 2 ...\n",
      " $ Filing.on.Behalf.of.Someone: Factor w/ 2 levels \"No\",\"Yes\": 1 1 2 2 1 1 1 1 1 2 ...\n",
      " $ Description                : Factor w/ 2214 levels \".follow up complain false service\\n waiting for six months for repair outside my house and being charge for max\"| __truncated__,..: 968 117 1806 292 951 2045 599 2176 416 81 ...\n"
     ]
    }
   ],
   "source": [
    "# This R environment comes with many helpful analytics packages installed\n",
    "# It is defined by the kaggle/rstats Docker image: https://github.com/kaggle/docker-rstats\n",
    "# For example, here's a helpful package to load\n",
    "\n",
    "#Loading Data\n",
    "df <- read.csv(\"../input/comcastcomplaints/comcast_fcc_complaints_2015.csv\")\n",
    "str(df)"
   ]
  },
  {
   "cell_type": "markdown",
   "metadata": {
    "papermill": {
     "duration": 0.039106,
     "end_time": "2020-11-21T21:15:52.020200",
     "exception": false,
     "start_time": "2020-11-21T21:15:51.981094",
     "status": "completed"
    },
    "tags": []
   },
   "source": [
    "Now preparing the data for further processing.\n",
    "Checked if there is any NA value in the data frame?\n",
    "There is no NA value present as output is 0\n"
   ]
  },
  {
   "cell_type": "markdown",
   "metadata": {
    "papermill": {
     "duration": 0.040116,
     "end_time": "2020-11-21T21:15:52.100137",
     "exception": false,
     "start_time": "2020-11-21T21:15:52.060021",
     "status": "completed"
    },
    "tags": []
   },
   "source": [
    "**Data Preparation:**"
   ]
  },
  {
   "cell_type": "code",
   "execution_count": 2,
   "metadata": {
    "execution": {
     "iopub.execute_input": "2020-11-21T21:15:52.212033Z",
     "iopub.status.busy": "2020-11-21T21:15:52.183041Z",
     "iopub.status.idle": "2020-11-21T21:15:52.230617Z",
     "shell.execute_reply": "2020-11-21T21:15:52.229144Z"
    },
    "papermill": {
     "duration": 0.091118,
     "end_time": "2020-11-21T21:15:52.230760",
     "exception": false,
     "start_time": "2020-11-21T21:15:52.139642",
     "status": "completed"
    },
    "tags": []
   },
   "outputs": [
    {
     "data": {
      "text/html": [
       "0"
      ],
      "text/latex": [
       "0"
      ],
      "text/markdown": [
       "0"
      ],
      "text/plain": [
       "[1] 0"
      ]
     },
     "metadata": {},
     "output_type": "display_data"
    }
   ],
   "source": [
    "#checking if NA present\n",
    "na_value <- is.na(df)\n",
    "length(na_value[na_value==TRUE])"
   ]
  },
  {
   "cell_type": "markdown",
   "metadata": {
    "papermill": {
     "duration": 0.039973,
     "end_time": "2020-11-21T21:15:52.310973",
     "exception": false,
     "start_time": "2020-11-21T21:15:52.271000",
     "status": "completed"
    },
    "tags": []
   },
   "source": [
    "Date value is stored in data frame as character and is in different format. Converted it into Date with a specific format and stored into the same data frame as Date_new.\n"
   ]
  },
  {
   "cell_type": "code",
   "execution_count": 3,
   "metadata": {
    "execution": {
     "iopub.execute_input": "2020-11-21T21:15:52.396382Z",
     "iopub.status.busy": "2020-11-21T21:15:52.394811Z",
     "iopub.status.idle": "2020-11-21T21:15:52.415646Z",
     "shell.execute_reply": "2020-11-21T21:15:52.414150Z"
    },
    "papermill": {
     "duration": 0.064966,
     "end_time": "2020-11-21T21:15:52.415790",
     "exception": false,
     "start_time": "2020-11-21T21:15:52.350824",
     "status": "completed"
    },
    "tags": []
   },
   "outputs": [
    {
     "data": {
      "text/html": [
       "<style>\n",
       ".list-inline {list-style: none; margin:0; padding: 0}\n",
       ".list-inline>li {display: inline-block}\n",
       ".list-inline>li:not(:last-child)::after {content: \"\\00b7\"; padding: 0 .5ex}\n",
       "</style>\n",
       "<ol class=list-inline><li>4/22/2015</li><li>4/8/2015</li><li>4/18/2015</li><li>5/7/2015</li><li>5/26/2015</li><li>6/12/2015</li></ol>\n",
       "\n",
       "<details>\n",
       "\t<summary style=display:list-item;cursor:pointer>\n",
       "\t\t<strong>Levels</strong>:\n",
       "\t</summary>\n",
       "\t<style>\n",
       "\t.list-inline {list-style: none; margin:0; padding: 0}\n",
       "\t.list-inline>li {display: inline-block}\n",
       "\t.list-inline>li:not(:last-child)::after {content: \"\\00b7\"; padding: 0 .5ex}\n",
       "\t</style>\n",
       "\t<ol class=list-inline><li>'4/1/2015'</li><li>'4/10/2015'</li><li>'4/11/2015'</li><li>'4/12/2015'</li><li>'4/13/2015'</li><li>'4/14/2015'</li><li>'4/15/2015'</li><li>'4/16/2015'</li><li>'4/17/2015'</li><li>'4/18/2015'</li><li>'4/19/2015'</li><li>'4/2/2015'</li><li>'4/20/2015'</li><li>'4/21/2015'</li><li>'4/22/2015'</li><li>'4/23/2015'</li><li>'4/24/2015'</li><li>'4/25/2015'</li><li>'4/26/2015'</li><li>'4/27/2015'</li><li>'4/28/2015'</li><li>'4/29/2015'</li><li>'4/3/2015'</li><li>'4/30/2015'</li><li>'4/4/2015'</li><li>'4/5/2015'</li><li>'4/6/2015'</li><li>'4/7/2015'</li><li>'4/8/2015'</li><li>'4/9/2015'</li><li>'5/1/2015'</li><li>'5/10/2015'</li><li>'5/11/2015'</li><li>'5/12/2015'</li><li>'5/13/2015'</li><li>'5/14/2015'</li><li>'5/15/2015'</li><li>'5/16/2015'</li><li>'5/17/2015'</li><li>'5/18/2015'</li><li>'5/19/2015'</li><li>'5/2/2015'</li><li>'5/20/2015'</li><li>'5/21/2015'</li><li>'5/22/2015'</li><li>'5/23/2015'</li><li>'5/24/2015'</li><li>'5/25/2015'</li><li>'5/26/2015'</li><li>'5/27/2015'</li><li>'5/28/2015'</li><li>'5/29/2015'</li><li>'5/3/2015'</li><li>'5/30/2015'</li><li>'5/31/2015'</li><li>'5/4/2015'</li><li>'5/5/2015'</li><li>'5/6/2015'</li><li>'5/7/2015'</li><li>'5/8/2015'</li><li>'5/9/2015'</li><li>'6/1/2015'</li><li>'6/10/2015'</li><li>'6/11/2015'</li><li>'6/12/2015'</li><li>'6/13/2015'</li><li>'6/14/2015'</li><li>'6/15/2015'</li><li>'6/16/2015'</li><li>'6/17/2015'</li><li>'6/18/2015'</li><li>'6/19/2015'</li><li>'6/2/2015'</li><li>'6/20/2015'</li><li>'6/21/2015'</li><li>'6/22/2015'</li><li>'6/23/2015'</li><li>'6/24/2015'</li><li>'6/24/2015 -'</li><li>'6/25/2015'</li><li>'6/26/2015'</li><li>'6/27/2015'</li><li>'6/28/2015'</li><li>'6/29/2015'</li><li>'6/3/2015'</li><li>'6/30/2015'</li><li>'6/4/2015'</li><li>'6/5/2015'</li><li>'6/6/2015'</li><li>'6/7/2015'</li><li>'6/8/2015'</li><li>'6/9/2015'</li></ol>\n",
       "</details>"
      ],
      "text/latex": [
       "\\begin{enumerate*}\n",
       "\\item 4/22/2015\n",
       "\\item 4/8/2015\n",
       "\\item 4/18/2015\n",
       "\\item 5/7/2015\n",
       "\\item 5/26/2015\n",
       "\\item 6/12/2015\n",
       "\\end{enumerate*}\n",
       "\n",
       "\\emph{Levels}: \\begin{enumerate*}\n",
       "\\item '4/1/2015'\n",
       "\\item '4/10/2015'\n",
       "\\item '4/11/2015'\n",
       "\\item '4/12/2015'\n",
       "\\item '4/13/2015'\n",
       "\\item '4/14/2015'\n",
       "\\item '4/15/2015'\n",
       "\\item '4/16/2015'\n",
       "\\item '4/17/2015'\n",
       "\\item '4/18/2015'\n",
       "\\item '4/19/2015'\n",
       "\\item '4/2/2015'\n",
       "\\item '4/20/2015'\n",
       "\\item '4/21/2015'\n",
       "\\item '4/22/2015'\n",
       "\\item '4/23/2015'\n",
       "\\item '4/24/2015'\n",
       "\\item '4/25/2015'\n",
       "\\item '4/26/2015'\n",
       "\\item '4/27/2015'\n",
       "\\item '4/28/2015'\n",
       "\\item '4/29/2015'\n",
       "\\item '4/3/2015'\n",
       "\\item '4/30/2015'\n",
       "\\item '4/4/2015'\n",
       "\\item '4/5/2015'\n",
       "\\item '4/6/2015'\n",
       "\\item '4/7/2015'\n",
       "\\item '4/8/2015'\n",
       "\\item '4/9/2015'\n",
       "\\item '5/1/2015'\n",
       "\\item '5/10/2015'\n",
       "\\item '5/11/2015'\n",
       "\\item '5/12/2015'\n",
       "\\item '5/13/2015'\n",
       "\\item '5/14/2015'\n",
       "\\item '5/15/2015'\n",
       "\\item '5/16/2015'\n",
       "\\item '5/17/2015'\n",
       "\\item '5/18/2015'\n",
       "\\item '5/19/2015'\n",
       "\\item '5/2/2015'\n",
       "\\item '5/20/2015'\n",
       "\\item '5/21/2015'\n",
       "\\item '5/22/2015'\n",
       "\\item '5/23/2015'\n",
       "\\item '5/24/2015'\n",
       "\\item '5/25/2015'\n",
       "\\item '5/26/2015'\n",
       "\\item '5/27/2015'\n",
       "\\item '5/28/2015'\n",
       "\\item '5/29/2015'\n",
       "\\item '5/3/2015'\n",
       "\\item '5/30/2015'\n",
       "\\item '5/31/2015'\n",
       "\\item '5/4/2015'\n",
       "\\item '5/5/2015'\n",
       "\\item '5/6/2015'\n",
       "\\item '5/7/2015'\n",
       "\\item '5/8/2015'\n",
       "\\item '5/9/2015'\n",
       "\\item '6/1/2015'\n",
       "\\item '6/10/2015'\n",
       "\\item '6/11/2015'\n",
       "\\item '6/12/2015'\n",
       "\\item '6/13/2015'\n",
       "\\item '6/14/2015'\n",
       "\\item '6/15/2015'\n",
       "\\item '6/16/2015'\n",
       "\\item '6/17/2015'\n",
       "\\item '6/18/2015'\n",
       "\\item '6/19/2015'\n",
       "\\item '6/2/2015'\n",
       "\\item '6/20/2015'\n",
       "\\item '6/21/2015'\n",
       "\\item '6/22/2015'\n",
       "\\item '6/23/2015'\n",
       "\\item '6/24/2015'\n",
       "\\item '6/24/2015 -'\n",
       "\\item '6/25/2015'\n",
       "\\item '6/26/2015'\n",
       "\\item '6/27/2015'\n",
       "\\item '6/28/2015'\n",
       "\\item '6/29/2015'\n",
       "\\item '6/3/2015'\n",
       "\\item '6/30/2015'\n",
       "\\item '6/4/2015'\n",
       "\\item '6/5/2015'\n",
       "\\item '6/6/2015'\n",
       "\\item '6/7/2015'\n",
       "\\item '6/8/2015'\n",
       "\\item '6/9/2015'\n",
       "\\end{enumerate*}\n"
      ],
      "text/markdown": [
       "1. 4/22/2015\n",
       "2. 4/8/2015\n",
       "3. 4/18/2015\n",
       "4. 5/7/2015\n",
       "5. 5/26/2015\n",
       "6. 6/12/2015\n",
       "\n",
       "\n",
       "\n",
       "**Levels**: 1. '4/1/2015'\n",
       "2. '4/10/2015'\n",
       "3. '4/11/2015'\n",
       "4. '4/12/2015'\n",
       "5. '4/13/2015'\n",
       "6. '4/14/2015'\n",
       "7. '4/15/2015'\n",
       "8. '4/16/2015'\n",
       "9. '4/17/2015'\n",
       "10. '4/18/2015'\n",
       "11. '4/19/2015'\n",
       "12. '4/2/2015'\n",
       "13. '4/20/2015'\n",
       "14. '4/21/2015'\n",
       "15. '4/22/2015'\n",
       "16. '4/23/2015'\n",
       "17. '4/24/2015'\n",
       "18. '4/25/2015'\n",
       "19. '4/26/2015'\n",
       "20. '4/27/2015'\n",
       "21. '4/28/2015'\n",
       "22. '4/29/2015'\n",
       "23. '4/3/2015'\n",
       "24. '4/30/2015'\n",
       "25. '4/4/2015'\n",
       "26. '4/5/2015'\n",
       "27. '4/6/2015'\n",
       "28. '4/7/2015'\n",
       "29. '4/8/2015'\n",
       "30. '4/9/2015'\n",
       "31. '5/1/2015'\n",
       "32. '5/10/2015'\n",
       "33. '5/11/2015'\n",
       "34. '5/12/2015'\n",
       "35. '5/13/2015'\n",
       "36. '5/14/2015'\n",
       "37. '5/15/2015'\n",
       "38. '5/16/2015'\n",
       "39. '5/17/2015'\n",
       "40. '5/18/2015'\n",
       "41. '5/19/2015'\n",
       "42. '5/2/2015'\n",
       "43. '5/20/2015'\n",
       "44. '5/21/2015'\n",
       "45. '5/22/2015'\n",
       "46. '5/23/2015'\n",
       "47. '5/24/2015'\n",
       "48. '5/25/2015'\n",
       "49. '5/26/2015'\n",
       "50. '5/27/2015'\n",
       "51. '5/28/2015'\n",
       "52. '5/29/2015'\n",
       "53. '5/3/2015'\n",
       "54. '5/30/2015'\n",
       "55. '5/31/2015'\n",
       "56. '5/4/2015'\n",
       "57. '5/5/2015'\n",
       "58. '5/6/2015'\n",
       "59. '5/7/2015'\n",
       "60. '5/8/2015'\n",
       "61. '5/9/2015'\n",
       "62. '6/1/2015'\n",
       "63. '6/10/2015'\n",
       "64. '6/11/2015'\n",
       "65. '6/12/2015'\n",
       "66. '6/13/2015'\n",
       "67. '6/14/2015'\n",
       "68. '6/15/2015'\n",
       "69. '6/16/2015'\n",
       "70. '6/17/2015'\n",
       "71. '6/18/2015'\n",
       "72. '6/19/2015'\n",
       "73. '6/2/2015'\n",
       "74. '6/20/2015'\n",
       "75. '6/21/2015'\n",
       "76. '6/22/2015'\n",
       "77. '6/23/2015'\n",
       "78. '6/24/2015'\n",
       "79. '6/24/2015 -'\n",
       "80. '6/25/2015'\n",
       "81. '6/26/2015'\n",
       "82. '6/27/2015'\n",
       "83. '6/28/2015'\n",
       "84. '6/29/2015'\n",
       "85. '6/3/2015'\n",
       "86. '6/30/2015'\n",
       "87. '6/4/2015'\n",
       "88. '6/5/2015'\n",
       "89. '6/6/2015'\n",
       "90. '6/7/2015'\n",
       "91. '6/8/2015'\n",
       "92. '6/9/2015'\n",
       "\n",
       "\n"
      ],
      "text/plain": [
       "[1] 4/22/2015 4/8/2015  4/18/2015 5/7/2015  5/26/2015 6/12/2015\n",
       "92 Levels: 4/1/2015 4/10/2015 4/11/2015 4/12/2015 4/13/2015 ... 6/9/2015"
      ]
     },
     "metadata": {},
     "output_type": "display_data"
    }
   ],
   "source": [
    "head(df$Date)"
   ]
  },
  {
   "cell_type": "markdown",
   "metadata": {
    "papermill": {
     "duration": 0.041154,
     "end_time": "2020-11-21T21:15:52.498250",
     "exception": false,
     "start_time": "2020-11-21T21:15:52.457096",
     "status": "completed"
    },
    "tags": []
   },
   "source": [
    "Formating date and storing in dataframe."
   ]
  },
  {
   "cell_type": "code",
   "execution_count": 4,
   "metadata": {
    "execution": {
     "iopub.execute_input": "2020-11-21T21:15:52.586295Z",
     "iopub.status.busy": "2020-11-21T21:15:52.584673Z",
     "iopub.status.idle": "2020-11-21T21:15:52.801925Z",
     "shell.execute_reply": "2020-11-21T21:15:52.800609Z"
    },
    "papermill": {
     "duration": 0.262692,
     "end_time": "2020-11-21T21:15:52.802119",
     "exception": false,
     "start_time": "2020-11-21T21:15:52.539427",
     "status": "completed"
    },
    "tags": []
   },
   "outputs": [
    {
     "name": "stderr",
     "output_type": "stream",
     "text": [
      "\n",
      "Attaching package: ‘lubridate’\n",
      "\n",
      "\n",
      "The following objects are masked from ‘package:base’:\n",
      "\n",
      "    date, intersect, setdiff, union\n",
      "\n",
      "\n"
     ]
    }
   ],
   "source": [
    "library(lubridate)\n",
    "df$Date_new<- mdy(df$Date)"
   ]
  },
  {
   "cell_type": "code",
   "execution_count": 5,
   "metadata": {
    "execution": {
     "iopub.execute_input": "2020-11-21T21:15:52.892875Z",
     "iopub.status.busy": "2020-11-21T21:15:52.891235Z",
     "iopub.status.idle": "2020-11-21T21:15:52.908446Z",
     "shell.execute_reply": "2020-11-21T21:15:52.907265Z"
    },
    "papermill": {
     "duration": 0.063536,
     "end_time": "2020-11-21T21:15:52.908610",
     "exception": false,
     "start_time": "2020-11-21T21:15:52.845074",
     "status": "completed"
    },
    "tags": []
   },
   "outputs": [
    {
     "data": {
      "text/html": [
       "<style>\n",
       ".list-inline {list-style: none; margin:0; padding: 0}\n",
       ".list-inline>li {display: inline-block}\n",
       ".list-inline>li:not(:last-child)::after {content: \"\\00b7\"; padding: 0 .5ex}\n",
       "</style>\n",
       "<ol class=list-inline><li><time datetime=\"2015-04-22\">2015-04-22</time></li><li><time datetime=\"2015-04-08\">2015-04-08</time></li><li><time datetime=\"2015-04-18\">2015-04-18</time></li><li><time datetime=\"2015-05-07\">2015-05-07</time></li><li><time datetime=\"2015-05-26\">2015-05-26</time></li><li><time datetime=\"2015-06-12\">2015-06-12</time></li></ol>\n"
      ],
      "text/latex": [
       "\\begin{enumerate*}\n",
       "\\item 2015-04-22\n",
       "\\item 2015-04-08\n",
       "\\item 2015-04-18\n",
       "\\item 2015-05-07\n",
       "\\item 2015-05-26\n",
       "\\item 2015-06-12\n",
       "\\end{enumerate*}\n"
      ],
      "text/markdown": [
       "1. 2015-04-22\n",
       "2. 2015-04-08\n",
       "3. 2015-04-18\n",
       "4. 2015-05-07\n",
       "5. 2015-05-26\n",
       "6. 2015-06-12\n",
       "\n",
       "\n"
      ],
      "text/plain": [
       "[1] \"2015-04-22\" \"2015-04-08\" \"2015-04-18\" \"2015-05-07\" \"2015-05-26\"\n",
       "[6] \"2015-06-12\""
      ]
     },
     "metadata": {},
     "output_type": "display_data"
    }
   ],
   "source": [
    "head(df$Date_new)"
   ]
  },
  {
   "cell_type": "markdown",
   "metadata": {
    "papermill": {
     "duration": 0.043305,
     "end_time": "2020-11-21T21:15:52.995066",
     "exception": false,
     "start_time": "2020-11-21T21:15:52.951761",
     "status": "completed"
    },
    "tags": []
   },
   "source": [
    "Checking if we have data of single year or multiple years. And the answer is yes, It's only 2015. Storing Months number in df$month from df$Data_new."
   ]
  },
  {
   "cell_type": "code",
   "execution_count": 6,
   "metadata": {
    "execution": {
     "iopub.execute_input": "2020-11-21T21:15:53.094908Z",
     "iopub.status.busy": "2020-11-21T21:15:53.086356Z",
     "iopub.status.idle": "2020-11-21T21:15:53.107488Z",
     "shell.execute_reply": "2020-11-21T21:15:53.106475Z"
    },
    "papermill": {
     "duration": 0.068761,
     "end_time": "2020-11-21T21:15:53.107635",
     "exception": false,
     "start_time": "2020-11-21T21:15:53.038874",
     "status": "completed"
    },
    "tags": []
   },
   "outputs": [
    {
     "data": {
      "text/html": [
       "2015"
      ],
      "text/latex": [
       "2015"
      ],
      "text/markdown": [
       "2015"
      ],
      "text/plain": [
       "[1] 2015"
      ]
     },
     "metadata": {},
     "output_type": "display_data"
    }
   ],
   "source": [
    "unique(as.integer(year(df$Date_new)))"
   ]
  },
  {
   "cell_type": "code",
   "execution_count": 7,
   "metadata": {
    "execution": {
     "iopub.execute_input": "2020-11-21T21:15:53.201815Z",
     "iopub.status.busy": "2020-11-21T21:15:53.200237Z",
     "iopub.status.idle": "2020-11-21T21:15:53.212169Z",
     "shell.execute_reply": "2020-11-21T21:15:53.210803Z"
    },
    "papermill": {
     "duration": 0.060063,
     "end_time": "2020-11-21T21:15:53.212317",
     "exception": false,
     "start_time": "2020-11-21T21:15:53.152254",
     "status": "completed"
    },
    "tags": []
   },
   "outputs": [],
   "source": [
    "df$month = as.integer(month(df$Date_new))"
   ]
  },
  {
   "cell_type": "markdown",
   "metadata": {
    "papermill": {
     "duration": 0.044592,
     "end_time": "2020-11-21T21:15:53.302454",
     "exception": false,
     "start_time": "2020-11-21T21:15:53.257862",
     "status": "completed"
    },
    "tags": []
   },
   "source": [
    "Now, Calculating Daily and Monthly number of complaints."
   ]
  },
  {
   "cell_type": "code",
   "execution_count": 8,
   "metadata": {
    "execution": {
     "iopub.execute_input": "2020-11-21T21:15:53.396717Z",
     "iopub.status.busy": "2020-11-21T21:15:53.395118Z",
     "iopub.status.idle": "2020-11-21T21:15:53.452533Z",
     "shell.execute_reply": "2020-11-21T21:15:53.451152Z"
    },
    "papermill": {
     "duration": 0.105859,
     "end_time": "2020-11-21T21:15:53.452691",
     "exception": false,
     "start_time": "2020-11-21T21:15:53.346832",
     "status": "completed"
    },
    "tags": []
   },
   "outputs": [
    {
     "name": "stderr",
     "output_type": "stream",
     "text": [
      "\n",
      "Attaching package: ‘dplyr’\n",
      "\n",
      "\n",
      "The following objects are masked from ‘package:stats’:\n",
      "\n",
      "    filter, lag\n",
      "\n",
      "\n",
      "The following objects are masked from ‘package:base’:\n",
      "\n",
      "    intersect, setdiff, setequal, union\n",
      "\n",
      "\n",
      "`summarise()` ungrouping output (override with `.groups` argument)\n",
      "\n",
      "`summarise()` ungrouping output (override with `.groups` argument)\n",
      "\n"
     ]
    }
   ],
   "source": [
    "library(dplyr)\n",
    "count_d <- summarise(group_by(df, Date_new), Count = n())\n",
    "count_m <- summarise(group_by(df, month), Count = n())"
   ]
  },
  {
   "cell_type": "code",
   "execution_count": 9,
   "metadata": {
    "execution": {
     "iopub.execute_input": "2020-11-21T21:15:53.551895Z",
     "iopub.status.busy": "2020-11-21T21:15:53.550221Z",
     "iopub.status.idle": "2020-11-21T21:15:53.613680Z",
     "shell.execute_reply": "2020-11-21T21:15:53.612160Z"
    },
    "papermill": {
     "duration": 0.114212,
     "end_time": "2020-11-21T21:15:53.613836",
     "exception": false,
     "start_time": "2020-11-21T21:15:53.499624",
     "status": "completed"
    },
    "tags": []
   },
   "outputs": [
    {
     "data": {
      "text/html": [
       "<table class=\"dataframe\">\n",
       "<caption>A tibble: 91 × 2</caption>\n",
       "<thead>\n",
       "\t<tr><th scope=col>Date_new</th><th scope=col>Count</th></tr>\n",
       "\t<tr><th scope=col>&lt;date&gt;</th><th scope=col>&lt;int&gt;</th></tr>\n",
       "</thead>\n",
       "<tbody>\n",
       "\t<tr><td>2015-04-01</td><td>18</td></tr>\n",
       "\t<tr><td>2015-04-02</td><td>27</td></tr>\n",
       "\t<tr><td>2015-04-03</td><td>15</td></tr>\n",
       "\t<tr><td>2015-04-04</td><td>12</td></tr>\n",
       "\t<tr><td>2015-04-05</td><td> 6</td></tr>\n",
       "\t<tr><td>2015-04-06</td><td>13</td></tr>\n",
       "\t<tr><td>2015-04-07</td><td>25</td></tr>\n",
       "\t<tr><td>2015-04-08</td><td>28</td></tr>\n",
       "\t<tr><td>2015-04-09</td><td>21</td></tr>\n",
       "\t<tr><td>2015-04-10</td><td>21</td></tr>\n",
       "\t<tr><td>2015-04-11</td><td> 5</td></tr>\n",
       "\t<tr><td>2015-04-12</td><td>15</td></tr>\n",
       "\t<tr><td>2015-04-13</td><td>24</td></tr>\n",
       "\t<tr><td>2015-04-14</td><td>23</td></tr>\n",
       "\t<tr><td>2015-04-15</td><td>12</td></tr>\n",
       "\t<tr><td>2015-04-16</td><td>20</td></tr>\n",
       "\t<tr><td>2015-04-17</td><td>21</td></tr>\n",
       "\t<tr><td>2015-04-18</td><td> 8</td></tr>\n",
       "\t<tr><td>2015-04-19</td><td> 9</td></tr>\n",
       "\t<tr><td>2015-04-20</td><td>20</td></tr>\n",
       "\t<tr><td>2015-04-21</td><td>12</td></tr>\n",
       "\t<tr><td>2015-04-22</td><td>22</td></tr>\n",
       "\t<tr><td>2015-04-23</td><td>23</td></tr>\n",
       "\t<tr><td>2015-04-24</td><td>24</td></tr>\n",
       "\t<tr><td>2015-04-25</td><td>16</td></tr>\n",
       "\t<tr><td>2015-04-26</td><td> 8</td></tr>\n",
       "\t<tr><td>2015-04-27</td><td>25</td></tr>\n",
       "\t<tr><td>2015-04-28</td><td>26</td></tr>\n",
       "\t<tr><td>2015-04-29</td><td>22</td></tr>\n",
       "\t<tr><td>2015-04-30</td><td>24</td></tr>\n",
       "\t<tr><td>⋮</td><td>⋮</td></tr>\n",
       "\t<tr><td>2015-06-01</td><td> 25</td></tr>\n",
       "\t<tr><td>2015-06-02</td><td> 25</td></tr>\n",
       "\t<tr><td>2015-06-03</td><td> 25</td></tr>\n",
       "\t<tr><td>2015-06-04</td><td> 12</td></tr>\n",
       "\t<tr><td>2015-06-05</td><td> 29</td></tr>\n",
       "\t<tr><td>2015-06-06</td><td> 11</td></tr>\n",
       "\t<tr><td>2015-06-07</td><td>  9</td></tr>\n",
       "\t<tr><td>2015-06-08</td><td> 24</td></tr>\n",
       "\t<tr><td>2015-06-09</td><td> 23</td></tr>\n",
       "\t<tr><td>2015-06-10</td><td> 25</td></tr>\n",
       "\t<tr><td>2015-06-11</td><td> 21</td></tr>\n",
       "\t<tr><td>2015-06-12</td><td> 43</td></tr>\n",
       "\t<tr><td>2015-06-13</td><td> 32</td></tr>\n",
       "\t<tr><td>2015-06-14</td><td> 16</td></tr>\n",
       "\t<tr><td>2015-06-15</td><td> 34</td></tr>\n",
       "\t<tr><td>2015-06-16</td><td> 29</td></tr>\n",
       "\t<tr><td>2015-06-17</td><td> 32</td></tr>\n",
       "\t<tr><td>2015-06-18</td><td> 47</td></tr>\n",
       "\t<tr><td>2015-06-19</td><td> 29</td></tr>\n",
       "\t<tr><td>2015-06-20</td><td> 16</td></tr>\n",
       "\t<tr><td>2015-06-21</td><td> 12</td></tr>\n",
       "\t<tr><td>2015-06-22</td><td> 30</td></tr>\n",
       "\t<tr><td>2015-06-23</td><td>190</td></tr>\n",
       "\t<tr><td>2015-06-24</td><td>219</td></tr>\n",
       "\t<tr><td>2015-06-25</td><td> 98</td></tr>\n",
       "\t<tr><td>2015-06-26</td><td> 55</td></tr>\n",
       "\t<tr><td>2015-06-27</td><td> 39</td></tr>\n",
       "\t<tr><td>2015-06-28</td><td> 27</td></tr>\n",
       "\t<tr><td>2015-06-29</td><td> 51</td></tr>\n",
       "\t<tr><td>2015-06-30</td><td> 53</td></tr>\n",
       "</tbody>\n",
       "</table>\n"
      ],
      "text/latex": [
       "A tibble: 91 × 2\n",
       "\\begin{tabular}{ll}\n",
       " Date\\_new & Count\\\\\n",
       " <date> & <int>\\\\\n",
       "\\hline\n",
       "\t 2015-04-01 & 18\\\\\n",
       "\t 2015-04-02 & 27\\\\\n",
       "\t 2015-04-03 & 15\\\\\n",
       "\t 2015-04-04 & 12\\\\\n",
       "\t 2015-04-05 &  6\\\\\n",
       "\t 2015-04-06 & 13\\\\\n",
       "\t 2015-04-07 & 25\\\\\n",
       "\t 2015-04-08 & 28\\\\\n",
       "\t 2015-04-09 & 21\\\\\n",
       "\t 2015-04-10 & 21\\\\\n",
       "\t 2015-04-11 &  5\\\\\n",
       "\t 2015-04-12 & 15\\\\\n",
       "\t 2015-04-13 & 24\\\\\n",
       "\t 2015-04-14 & 23\\\\\n",
       "\t 2015-04-15 & 12\\\\\n",
       "\t 2015-04-16 & 20\\\\\n",
       "\t 2015-04-17 & 21\\\\\n",
       "\t 2015-04-18 &  8\\\\\n",
       "\t 2015-04-19 &  9\\\\\n",
       "\t 2015-04-20 & 20\\\\\n",
       "\t 2015-04-21 & 12\\\\\n",
       "\t 2015-04-22 & 22\\\\\n",
       "\t 2015-04-23 & 23\\\\\n",
       "\t 2015-04-24 & 24\\\\\n",
       "\t 2015-04-25 & 16\\\\\n",
       "\t 2015-04-26 &  8\\\\\n",
       "\t 2015-04-27 & 25\\\\\n",
       "\t 2015-04-28 & 26\\\\\n",
       "\t 2015-04-29 & 22\\\\\n",
       "\t 2015-04-30 & 24\\\\\n",
       "\t ⋮ & ⋮\\\\\n",
       "\t 2015-06-01 &  25\\\\\n",
       "\t 2015-06-02 &  25\\\\\n",
       "\t 2015-06-03 &  25\\\\\n",
       "\t 2015-06-04 &  12\\\\\n",
       "\t 2015-06-05 &  29\\\\\n",
       "\t 2015-06-06 &  11\\\\\n",
       "\t 2015-06-07 &   9\\\\\n",
       "\t 2015-06-08 &  24\\\\\n",
       "\t 2015-06-09 &  23\\\\\n",
       "\t 2015-06-10 &  25\\\\\n",
       "\t 2015-06-11 &  21\\\\\n",
       "\t 2015-06-12 &  43\\\\\n",
       "\t 2015-06-13 &  32\\\\\n",
       "\t 2015-06-14 &  16\\\\\n",
       "\t 2015-06-15 &  34\\\\\n",
       "\t 2015-06-16 &  29\\\\\n",
       "\t 2015-06-17 &  32\\\\\n",
       "\t 2015-06-18 &  47\\\\\n",
       "\t 2015-06-19 &  29\\\\\n",
       "\t 2015-06-20 &  16\\\\\n",
       "\t 2015-06-21 &  12\\\\\n",
       "\t 2015-06-22 &  30\\\\\n",
       "\t 2015-06-23 & 190\\\\\n",
       "\t 2015-06-24 & 219\\\\\n",
       "\t 2015-06-25 &  98\\\\\n",
       "\t 2015-06-26 &  55\\\\\n",
       "\t 2015-06-27 &  39\\\\\n",
       "\t 2015-06-28 &  27\\\\\n",
       "\t 2015-06-29 &  51\\\\\n",
       "\t 2015-06-30 &  53\\\\\n",
       "\\end{tabular}\n"
      ],
      "text/markdown": [
       "\n",
       "A tibble: 91 × 2\n",
       "\n",
       "| Date_new &lt;date&gt; | Count &lt;int&gt; |\n",
       "|---|---|\n",
       "| 2015-04-01 | 18 |\n",
       "| 2015-04-02 | 27 |\n",
       "| 2015-04-03 | 15 |\n",
       "| 2015-04-04 | 12 |\n",
       "| 2015-04-05 |  6 |\n",
       "| 2015-04-06 | 13 |\n",
       "| 2015-04-07 | 25 |\n",
       "| 2015-04-08 | 28 |\n",
       "| 2015-04-09 | 21 |\n",
       "| 2015-04-10 | 21 |\n",
       "| 2015-04-11 |  5 |\n",
       "| 2015-04-12 | 15 |\n",
       "| 2015-04-13 | 24 |\n",
       "| 2015-04-14 | 23 |\n",
       "| 2015-04-15 | 12 |\n",
       "| 2015-04-16 | 20 |\n",
       "| 2015-04-17 | 21 |\n",
       "| 2015-04-18 |  8 |\n",
       "| 2015-04-19 |  9 |\n",
       "| 2015-04-20 | 20 |\n",
       "| 2015-04-21 | 12 |\n",
       "| 2015-04-22 | 22 |\n",
       "| 2015-04-23 | 23 |\n",
       "| 2015-04-24 | 24 |\n",
       "| 2015-04-25 | 16 |\n",
       "| 2015-04-26 |  8 |\n",
       "| 2015-04-27 | 25 |\n",
       "| 2015-04-28 | 26 |\n",
       "| 2015-04-29 | 22 |\n",
       "| 2015-04-30 | 24 |\n",
       "| ⋮ | ⋮ |\n",
       "| 2015-06-01 |  25 |\n",
       "| 2015-06-02 |  25 |\n",
       "| 2015-06-03 |  25 |\n",
       "| 2015-06-04 |  12 |\n",
       "| 2015-06-05 |  29 |\n",
       "| 2015-06-06 |  11 |\n",
       "| 2015-06-07 |   9 |\n",
       "| 2015-06-08 |  24 |\n",
       "| 2015-06-09 |  23 |\n",
       "| 2015-06-10 |  25 |\n",
       "| 2015-06-11 |  21 |\n",
       "| 2015-06-12 |  43 |\n",
       "| 2015-06-13 |  32 |\n",
       "| 2015-06-14 |  16 |\n",
       "| 2015-06-15 |  34 |\n",
       "| 2015-06-16 |  29 |\n",
       "| 2015-06-17 |  32 |\n",
       "| 2015-06-18 |  47 |\n",
       "| 2015-06-19 |  29 |\n",
       "| 2015-06-20 |  16 |\n",
       "| 2015-06-21 |  12 |\n",
       "| 2015-06-22 |  30 |\n",
       "| 2015-06-23 | 190 |\n",
       "| 2015-06-24 | 219 |\n",
       "| 2015-06-25 |  98 |\n",
       "| 2015-06-26 |  55 |\n",
       "| 2015-06-27 |  39 |\n",
       "| 2015-06-28 |  27 |\n",
       "| 2015-06-29 |  51 |\n",
       "| 2015-06-30 |  53 |\n",
       "\n"
      ],
      "text/plain": [
       "   Date_new   Count\n",
       "1  2015-04-01 18   \n",
       "2  2015-04-02 27   \n",
       "3  2015-04-03 15   \n",
       "4  2015-04-04 12   \n",
       "5  2015-04-05  6   \n",
       "6  2015-04-06 13   \n",
       "7  2015-04-07 25   \n",
       "8  2015-04-08 28   \n",
       "9  2015-04-09 21   \n",
       "10 2015-04-10 21   \n",
       "11 2015-04-11  5   \n",
       "12 2015-04-12 15   \n",
       "13 2015-04-13 24   \n",
       "14 2015-04-14 23   \n",
       "15 2015-04-15 12   \n",
       "16 2015-04-16 20   \n",
       "17 2015-04-17 21   \n",
       "18 2015-04-18  8   \n",
       "19 2015-04-19  9   \n",
       "20 2015-04-20 20   \n",
       "21 2015-04-21 12   \n",
       "22 2015-04-22 22   \n",
       "23 2015-04-23 23   \n",
       "24 2015-04-24 24   \n",
       "25 2015-04-25 16   \n",
       "26 2015-04-26  8   \n",
       "27 2015-04-27 25   \n",
       "28 2015-04-28 26   \n",
       "29 2015-04-29 22   \n",
       "30 2015-04-30 24   \n",
       "⋮  ⋮          ⋮    \n",
       "62 2015-06-01  25  \n",
       "63 2015-06-02  25  \n",
       "64 2015-06-03  25  \n",
       "65 2015-06-04  12  \n",
       "66 2015-06-05  29  \n",
       "67 2015-06-06  11  \n",
       "68 2015-06-07   9  \n",
       "69 2015-06-08  24  \n",
       "70 2015-06-09  23  \n",
       "71 2015-06-10  25  \n",
       "72 2015-06-11  21  \n",
       "73 2015-06-12  43  \n",
       "74 2015-06-13  32  \n",
       "75 2015-06-14  16  \n",
       "76 2015-06-15  34  \n",
       "77 2015-06-16  29  \n",
       "78 2015-06-17  32  \n",
       "79 2015-06-18  47  \n",
       "80 2015-06-19  29  \n",
       "81 2015-06-20  16  \n",
       "82 2015-06-21  12  \n",
       "83 2015-06-22  30  \n",
       "84 2015-06-23 190  \n",
       "85 2015-06-24 219  \n",
       "86 2015-06-25  98  \n",
       "87 2015-06-26  55  \n",
       "88 2015-06-27  39  \n",
       "89 2015-06-28  27  \n",
       "90 2015-06-29  51  \n",
       "91 2015-06-30  53  "
      ]
     },
     "metadata": {},
     "output_type": "display_data"
    },
    {
     "data": {
      "text/html": [
       "<table class=\"dataframe\">\n",
       "<caption>A tibble: 3 × 2</caption>\n",
       "<thead>\n",
       "\t<tr><th scope=col>month</th><th scope=col>Count</th></tr>\n",
       "\t<tr><th scope=col>&lt;int&gt;</th><th scope=col>&lt;int&gt;</th></tr>\n",
       "</thead>\n",
       "<tbody>\n",
       "\t<tr><td>4</td><td> 545</td></tr>\n",
       "\t<tr><td>5</td><td> 399</td></tr>\n",
       "\t<tr><td>6</td><td>1281</td></tr>\n",
       "</tbody>\n",
       "</table>\n"
      ],
      "text/latex": [
       "A tibble: 3 × 2\n",
       "\\begin{tabular}{ll}\n",
       " month & Count\\\\\n",
       " <int> & <int>\\\\\n",
       "\\hline\n",
       "\t 4 &  545\\\\\n",
       "\t 5 &  399\\\\\n",
       "\t 6 & 1281\\\\\n",
       "\\end{tabular}\n"
      ],
      "text/markdown": [
       "\n",
       "A tibble: 3 × 2\n",
       "\n",
       "| month &lt;int&gt; | Count &lt;int&gt; |\n",
       "|---|---|\n",
       "| 4 |  545 |\n",
       "| 5 |  399 |\n",
       "| 6 | 1281 |\n",
       "\n"
      ],
      "text/plain": [
       "  month Count\n",
       "1 4      545 \n",
       "2 5      399 \n",
       "3 6     1281 "
      ]
     },
     "metadata": {},
     "output_type": "display_data"
    }
   ],
   "source": [
    "count_d\n",
    "count_m"
   ]
  },
  {
   "cell_type": "markdown",
   "metadata": {
    "papermill": {
     "duration": 0.048824,
     "end_time": "2020-11-21T21:15:53.719262",
     "exception": false,
     "start_time": "2020-11-21T21:15:53.670438",
     "status": "completed"
    },
    "tags": []
   },
   "source": [
    "Creating Monthly trend chart for number of complains."
   ]
  },
  {
   "cell_type": "code",
   "execution_count": 10,
   "metadata": {
    "execution": {
     "iopub.execute_input": "2020-11-21T21:15:53.821115Z",
     "iopub.status.busy": "2020-11-21T21:15:53.819957Z",
     "iopub.status.idle": "2020-11-21T21:15:54.555172Z",
     "shell.execute_reply": "2020-11-21T21:15:54.553817Z"
    },
    "papermill": {
     "duration": 0.787482,
     "end_time": "2020-11-21T21:15:54.555328",
     "exception": false,
     "start_time": "2020-11-21T21:15:53.767846",
     "status": "completed"
    },
    "tags": []
   },
   "outputs": [
    {
     "data": {
      "image/png": "[encoded data removed]"
     },
     "metadata": {
      "image/png": {
       "height": 420,
       "width": 420
      }
     },
     "output_type": "display_data"
    }
   ],
   "source": [
    "library(ggplot2)\n",
    "ggplot(data = count_m, aes(x= month, y= Count))+\n",
    "  geom_line(color=\"blue\")+\n",
    "  geom_point()+\n",
    "  geom_text(label= count_m$Count, nudge_x = 0.2, nudge_y = 0.3, check_overlap = T)+\n",
    "  scale_x_continuous(breaks = count_m$month)+\n",
    "  labs(title = \"Monthly Trend for the Number of Complaints\",x= \"Months\",y =\"No. of Complaints\")"
   ]
  },
  {
   "cell_type": "markdown",
   "metadata": {
    "papermill": {
     "duration": 0.050193,
     "end_time": "2020-11-21T21:15:54.656976",
     "exception": false,
     "start_time": "2020-11-21T21:15:54.606783",
     "status": "completed"
    },
    "tags": []
   },
   "source": [
    "It can be observed that In June number of complaints are comparatively higher than in other months. In June probably there was some major issue because of that number of complaints reached the highest number."
   ]
  },
  {
   "cell_type": "markdown",
   "metadata": {
    "papermill": {
     "duration": 0.050099,
     "end_time": "2020-11-21T21:15:54.757658",
     "exception": false,
     "start_time": "2020-11-21T21:15:54.707559",
     "status": "completed"
    },
    "tags": []
   },
   "source": [
    "Creating Daily trend chart for number of complains."
   ]
  },
  {
   "cell_type": "code",
   "execution_count": 11,
   "metadata": {
    "execution": {
     "iopub.execute_input": "2020-11-21T21:15:54.863541Z",
     "iopub.status.busy": "2020-11-21T21:15:54.862053Z",
     "iopub.status.idle": "2020-11-21T21:15:55.201900Z",
     "shell.execute_reply": "2020-11-21T21:15:55.200669Z"
    },
    "papermill": {
     "duration": 0.394102,
     "end_time": "2020-11-21T21:15:55.202092",
     "exception": false,
     "start_time": "2020-11-21T21:15:54.807990",
     "status": "completed"
    },
    "tags": []
   },
   "outputs": [
    {
     "data": {
      "image/png": "[encoded data removed]"
     },
     "metadata": {
      "image/png": {
       "height": 420,
       "width": 420
      }
     },
     "output_type": "display_data"
    }
   ],
   "source": [
    "#Daily trend chart for the number of complaints \n",
    "ggplot(data = count_d, aes(x= as.POSIXct(Date_new), y= Count))+\n",
    "  geom_line(color=\"blue\")+\n",
    "  geom_point()+\n",
    "  scale_x_datetime(breaks = \"1 weeks\", date_labels = \"%d/%m\")+\n",
    "  theme(axis.text.x = element_text(angle = 0))+\n",
    "  labs(title = \"Daily Trend for the Number of Complaints\", x = \"Date\", y =\"No. of Complaints\")"
   ]
  },
  {
   "cell_type": "markdown",
   "metadata": {
    "papermill": {
     "duration": 0.053039,
     "end_time": "2020-11-21T21:15:55.308475",
     "exception": false,
     "start_time": "2020-11-21T21:15:55.255436",
     "status": "completed"
    },
    "tags": []
   },
   "source": [
    "In the daily chart of complaints, it can be seen that cmpains are higher between 12th June and 30th June. To be more precise on 23rd, 24th and 25th June there are sudden spikes of daily complaints, there could be some major reason behind that. We will do further analysis below."
   ]
  },
  {
   "cell_type": "markdown",
   "metadata": {
    "papermill": {
     "duration": 0.052787,
     "end_time": "2020-11-21T21:15:55.414107",
     "exception": false,
     "start_time": "2020-11-21T21:15:55.361320",
     "status": "completed"
    },
    "tags": []
   },
   "source": [
    "Now, calculating frequency of different types of complaints. To do so first we are using NLP to get the highest frequency words/tags that appeared in Customer.Complaint\n",
    "To do so I have converted Customer.Complaint column into a corpus (collection of documents). Then removed punctuation, converted everything to lowercase.\n",
    "After that I have removed all stop words and also the word “comcast” (as “comcast” is the company name and is appearing in most of the complaints text).\n",
    "Then performed stemming and removed whitespaces."
   ]
  },
  {
   "cell_type": "markdown",
   "metadata": {
    "papermill": {
     "duration": 0.052839,
     "end_time": "2020-11-21T21:15:55.519724",
     "exception": false,
     "start_time": "2020-11-21T21:15:55.466885",
     "status": "completed"
    },
    "tags": []
   },
   "source": [
    "**Frequency of complaint types Calculation:**\n"
   ]
  },
  {
   "cell_type": "code",
   "execution_count": 12,
   "metadata": {
    "execution": {
     "iopub.execute_input": "2020-11-21T21:15:55.630965Z",
     "iopub.status.busy": "2020-11-21T21:15:55.629666Z",
     "iopub.status.idle": "2020-11-21T21:15:55.791200Z",
     "shell.execute_reply": "2020-11-21T21:15:55.790172Z"
    },
    "papermill": {
     "duration": 0.218773,
     "end_time": "2020-11-21T21:15:55.791378",
     "exception": false,
     "start_time": "2020-11-21T21:15:55.572605",
     "status": "completed"
    },
    "tags": []
   },
   "outputs": [
    {
     "name": "stderr",
     "output_type": "stream",
     "text": [
      "Loading required package: NLP\n",
      "\n",
      "\n",
      "Attaching package: ‘NLP’\n",
      "\n",
      "\n",
      "The following object is masked from ‘package:ggplot2’:\n",
      "\n",
      "    annotate\n",
      "\n",
      "\n",
      "The following object is masked from ‘package:httr’:\n",
      "\n",
      "    content\n",
      "\n",
      "\n"
     ]
    }
   ],
   "source": [
    "#using NLP to get highest frequency words\n",
    "library(tm)\n",
    "library(SnowballC)\n",
    "corp_com = Corpus(VectorSource(df$Customer.Complaint))"
   ]
  },
  {
   "cell_type": "code",
   "execution_count": 13,
   "metadata": {
    "execution": {
     "iopub.execute_input": "2020-11-21T21:15:55.907353Z",
     "iopub.status.busy": "2020-11-21T21:15:55.906143Z",
     "iopub.status.idle": "2020-11-21T21:15:55.948261Z",
     "shell.execute_reply": "2020-11-21T21:15:55.947104Z"
    },
    "papermill": {
     "duration": 0.101546,
     "end_time": "2020-11-21T21:15:55.948417",
     "exception": false,
     "start_time": "2020-11-21T21:15:55.846871",
     "status": "completed"
    },
    "tags": []
   },
   "outputs": [
    {
     "name": "stderr",
     "output_type": "stream",
     "text": [
      "Warning message in tm_map.SimpleCorpus(corp_com, removePunctuation):\n",
      "“transformation drops documents”\n",
      "Warning message in tm_map.SimpleCorpus(corp_com, PlainTextDocument):\n",
      "“transformation drops documents”\n",
      "Warning message in tm_map.SimpleCorpus(corp_com, tolower):\n",
      "“transformation drops documents”\n",
      "Warning message in tm_map.SimpleCorpus(corp_com, removeWords, c(\"comcast\", stopwords(\"english\"))):\n",
      "“transformation drops documents”\n"
     ]
    }
   ],
   "source": [
    "#remove punctuations\n",
    "corp_com <- tm_map(corp_com, removePunctuation)\n",
    "#to lowercase\n",
    "corp_com <- tm_map(corp_com, PlainTextDocument)\n",
    "corp_com <- tm_map(corp_com, tolower)\n",
    "#remove stopwords and the word \"comcast\"\n",
    "corp_com <- tm_map(corp_com, removeWords, c(\"comcast\", stopwords(\"english\")))"
   ]
  },
  {
   "cell_type": "markdown",
   "metadata": {
    "papermill": {
     "duration": 0.056369,
     "end_time": "2020-11-21T21:15:56.061145",
     "exception": false,
     "start_time": "2020-11-21T21:15:56.004776",
     "status": "completed"
    },
    "tags": []
   },
   "source": [
    "Created termed document matrix and stored the frequency of the tags/words into df1 dataframe. Displaying top 25 tags/words."
   ]
  },
  {
   "cell_type": "code",
   "execution_count": 14,
   "metadata": {
    "execution": {
     "iopub.execute_input": "2020-11-21T21:15:56.179917Z",
     "iopub.status.busy": "2020-11-21T21:15:56.178644Z",
     "iopub.status.idle": "2020-11-21T21:15:56.398022Z",
     "shell.execute_reply": "2020-11-21T21:15:56.396867Z"
    },
    "papermill": {
     "duration": 0.279675,
     "end_time": "2020-11-21T21:15:56.398170",
     "exception": false,
     "start_time": "2020-11-21T21:15:56.118495",
     "status": "completed"
    },
    "tags": []
   },
   "outputs": [
    {
     "data": {
      "text/html": [
       "<table class=\"dataframe\">\n",
       "<caption>A data.frame: 25 × 2</caption>\n",
       "<thead>\n",
       "\t<tr><th></th><th scope=col>word</th><th scope=col>freq</th></tr>\n",
       "\t<tr><th></th><th scope=col>&lt;fct&gt;</th><th scope=col>&lt;dbl&gt;</th></tr>\n",
       "</thead>\n",
       "<tbody>\n",
       "\t<tr><th scope=row>internet</th><td>internet  </td><td>517</td></tr>\n",
       "\t<tr><th scope=row>service</th><td>service   </td><td>444</td></tr>\n",
       "\t<tr><th scope=row>billing</th><td>billing   </td><td>282</td></tr>\n",
       "\t<tr><th scope=row>data</th><td>data      </td><td>220</td></tr>\n",
       "\t<tr><th scope=row>speed</th><td>speed     </td><td>116</td></tr>\n",
       "\t<tr><th scope=row>cap</th><td>cap       </td><td>103</td></tr>\n",
       "\t<tr><th scope=row>issues</th><td>issues    </td><td> 90</td></tr>\n",
       "\t<tr><th scope=row>customer</th><td>customer  </td><td> 88</td></tr>\n",
       "\t<tr><th scope=row>caps</th><td>caps      </td><td> 79</td></tr>\n",
       "\t<tr><th scope=row>practices</th><td>practices </td><td> 73</td></tr>\n",
       "\t<tr><th scope=row>speeds</th><td>speeds    </td><td> 71</td></tr>\n",
       "\t<tr><th scope=row>charges</th><td>charges   </td><td> 71</td></tr>\n",
       "\t<tr><th scope=row>complaint</th><td>complaint </td><td> 70</td></tr>\n",
       "\t<tr><th scope=row>bill</th><td>bill      </td><td> 64</td></tr>\n",
       "\t<tr><th scope=row>xfinity</th><td>xfinity   </td><td> 62</td></tr>\n",
       "\t<tr><th scope=row>unfair</th><td>unfair    </td><td> 58</td></tr>\n",
       "\t<tr><th scope=row>throttling</th><td>throttling</td><td> 53</td></tr>\n",
       "\t<tr><th scope=row>services</th><td>services  </td><td> 52</td></tr>\n",
       "\t<tr><th scope=row>cable</th><td>cable     </td><td> 50</td></tr>\n",
       "\t<tr><th scope=row>slow</th><td>slow      </td><td> 49</td></tr>\n",
       "\t<tr><th scope=row>usage</th><td>usage     </td><td> 47</td></tr>\n",
       "\t<tr><th scope=row>poor</th><td>poor      </td><td> 43</td></tr>\n",
       "\t<tr><th scope=row>pricing</th><td>pricing   </td><td> 39</td></tr>\n",
       "\t<tr><th scope=row>price</th><td>price     </td><td> 39</td></tr>\n",
       "\t<tr><th scope=row>connection</th><td>connection</td><td> 34</td></tr>\n",
       "</tbody>\n",
       "</table>\n"
      ],
      "text/latex": [
       "A data.frame: 25 × 2\n",
       "\\begin{tabular}{r|ll}\n",
       "  & word & freq\\\\\n",
       "  & <fct> & <dbl>\\\\\n",
       "\\hline\n",
       "\tinternet & internet   & 517\\\\\n",
       "\tservice & service    & 444\\\\\n",
       "\tbilling & billing    & 282\\\\\n",
       "\tdata & data       & 220\\\\\n",
       "\tspeed & speed      & 116\\\\\n",
       "\tcap & cap        & 103\\\\\n",
       "\tissues & issues     &  90\\\\\n",
       "\tcustomer & customer   &  88\\\\\n",
       "\tcaps & caps       &  79\\\\\n",
       "\tpractices & practices  &  73\\\\\n",
       "\tspeeds & speeds     &  71\\\\\n",
       "\tcharges & charges    &  71\\\\\n",
       "\tcomplaint & complaint  &  70\\\\\n",
       "\tbill & bill       &  64\\\\\n",
       "\txfinity & xfinity    &  62\\\\\n",
       "\tunfair & unfair     &  58\\\\\n",
       "\tthrottling & throttling &  53\\\\\n",
       "\tservices & services   &  52\\\\\n",
       "\tcable & cable      &  50\\\\\n",
       "\tslow & slow       &  49\\\\\n",
       "\tusage & usage      &  47\\\\\n",
       "\tpoor & poor       &  43\\\\\n",
       "\tpricing & pricing    &  39\\\\\n",
       "\tprice & price      &  39\\\\\n",
       "\tconnection & connection &  34\\\\\n",
       "\\end{tabular}\n"
      ],
      "text/markdown": [
       "\n",
       "A data.frame: 25 × 2\n",
       "\n",
       "| <!--/--> | word &lt;fct&gt; | freq &lt;dbl&gt; |\n",
       "|---|---|---|\n",
       "| internet | internet   | 517 |\n",
       "| service | service    | 444 |\n",
       "| billing | billing    | 282 |\n",
       "| data | data       | 220 |\n",
       "| speed | speed      | 116 |\n",
       "| cap | cap        | 103 |\n",
       "| issues | issues     |  90 |\n",
       "| customer | customer   |  88 |\n",
       "| caps | caps       |  79 |\n",
       "| practices | practices  |  73 |\n",
       "| speeds | speeds     |  71 |\n",
       "| charges | charges    |  71 |\n",
       "| complaint | complaint  |  70 |\n",
       "| bill | bill       |  64 |\n",
       "| xfinity | xfinity    |  62 |\n",
       "| unfair | unfair     |  58 |\n",
       "| throttling | throttling |  53 |\n",
       "| services | services   |  52 |\n",
       "| cable | cable      |  50 |\n",
       "| slow | slow       |  49 |\n",
       "| usage | usage      |  47 |\n",
       "| poor | poor       |  43 |\n",
       "| pricing | pricing    |  39 |\n",
       "| price | price      |  39 |\n",
       "| connection | connection |  34 |\n",
       "\n"
      ],
      "text/plain": [
       "           word       freq\n",
       "internet   internet   517 \n",
       "service    service    444 \n",
       "billing    billing    282 \n",
       "data       data       220 \n",
       "speed      speed      116 \n",
       "cap        cap        103 \n",
       "issues     issues      90 \n",
       "customer   customer    88 \n",
       "caps       caps        79 \n",
       "practices  practices   73 \n",
       "speeds     speeds      71 \n",
       "charges    charges     71 \n",
       "complaint  complaint   70 \n",
       "bill       bill        64 \n",
       "xfinity    xfinity     62 \n",
       "unfair     unfair      58 \n",
       "throttling throttling  53 \n",
       "services   services    52 \n",
       "cable      cable       50 \n",
       "slow       slow        49 \n",
       "usage      usage       47 \n",
       "poor       poor        43 \n",
       "pricing    pricing     39 \n",
       "price      price       39 \n",
       "connection connection  34 "
      ]
     },
     "metadata": {},
     "output_type": "display_data"
    }
   ],
   "source": [
    "#creating term document matrix and calculating tags frequency\n",
    "m <- TermDocumentMatrix(corp_com)\n",
    "mat <- as.matrix(m)\n",
    "f <- sort(rowSums(mat),decreasing=TRUE)\n",
    "df1 <- data.frame(word = names(f),freq=f)\n",
    "head(df1, 25)"
   ]
  },
  {
   "cell_type": "markdown",
   "metadata": {
    "papermill": {
     "duration": 0.057171,
     "end_time": "2020-11-21T21:15:56.512800",
     "exception": false,
     "start_time": "2020-11-21T21:15:56.455629",
     "status": "completed"
    },
    "tags": []
   },
   "source": [
    "From above tags and their frequency, I have derived complain types. Now, getting the index of df$Customer.Complaint rows that contain below match words (in case insensitive form)."
   ]
  },
  {
   "cell_type": "markdown",
   "metadata": {
    "papermill": {
     "duration": 0.057842,
     "end_time": "2020-11-21T21:15:56.628022",
     "exception": false,
     "start_time": "2020-11-21T21:15:56.570180",
     "status": "completed"
    },
    "tags": []
   },
   "source": [
    "**Deriving complain types:**"
   ]
  },
  {
   "cell_type": "code",
   "execution_count": 15,
   "metadata": {
    "execution": {
     "iopub.execute_input": "2020-11-21T21:15:56.748200Z",
     "iopub.status.busy": "2020-11-21T21:15:56.746904Z",
     "iopub.status.idle": "2020-11-21T21:15:56.819080Z",
     "shell.execute_reply": "2020-11-21T21:15:56.818093Z"
    },
    "papermill": {
     "duration": 0.133403,
     "end_time": "2020-11-21T21:15:56.819234",
     "exception": false,
     "start_time": "2020-11-21T21:15:56.685831",
     "status": "completed"
    },
    "tags": []
   },
   "outputs": [],
   "source": [
    "internet <- contains(df$Customer.Complaint, match = 'internet',ignore.case = T)\n",
    "billing <- contains(df$Customer.Complaint, match = 'bill',ignore.case = T)\n",
    "data <- contains(df$Customer.Complaint, match = 'data',ignore.case = T)\n",
    "cap <- contains(df$Customer.Complaint, match = 'cap',ignore.case = T)\n",
    "throttle <- contains(df$Customer.Complaint, match = 'throttl',ignore.case = T)\n",
    "price <- contains(df$Customer.Complaint, match = 'price',ignore.case = T)\n",
    "charge <- contains(df$Customer.Complaint, match = 'charge',ignore.case = T)\n",
    "cable <- contains(df$Customer.Complaint, match = 'cable',ignore.case = T)\n",
    "connect <- contains(df$Customer.Complaint, match = 'connect',ignore.case = T)\n",
    "contract <- contains(df$Customer.Complaint, match = 'contract',ignore.case = T)\n",
    "account <- contains(df$Customer.Complaint, match = 'account',ignore.case = T)\n",
    "email <- contains(df$Customer.Complaint, match = 'email',ignore.case = T)\n",
    "xfinity <- contains(df$Customer.Complaint, match = 'xfinit',ignore.case = T)\n",
    "hbo <- contains(df$Customer.Complaint, match = 'hbo',ignore.case = T)\n",
    "modem <- contains(df$Customer.Complaint, match = 'modem',ignore.case = T)\n",
    "service <- contains(df$Customer.Complaint, match = 'service',ignore.case = T)"
   ]
  },
  {
   "cell_type": "markdown",
   "metadata": {
    "papermill": {
     "duration": 0.057341,
     "end_time": "2020-11-21T21:15:56.934269",
     "exception": false,
     "start_time": "2020-11-21T21:15:56.876928",
     "status": "completed"
    },
    "tags": []
   },
   "source": [
    "Complaint.Types column has been created. Initially all values in  Complaint.Types is NA. \n",
    "\n",
    "Internet has the highest tag frequency. Now, assigning category “Internet” to the rows of df$Complaint.Types having the same indexes that we have derived in last step.\n",
    "\n",
    "Second one having high frequency is “billing”. Now it may happen that, internet and billing may have some common indexes. To avoid that, I have decided that if one complaint is already assigned to a category then it will not be changed anymore. So below it can be seen that for “billing” we have assigned category= Billing to only those rows whose indexes are present in billing and existing value is NA.\n",
    "\n",
    "We have set all the category tags frequency wise. Then applied above technique for all  identified category tags.\n"
   ]
  },
  {
   "cell_type": "markdown",
   "metadata": {
    "papermill": {
     "duration": 0.058177,
     "end_time": "2020-11-21T21:15:57.049828",
     "exception": false,
     "start_time": "2020-11-21T21:15:56.991651",
     "status": "completed"
    },
    "tags": []
   },
   "source": [
    "**Creating new column and adding complaint type serially:**"
   ]
  },
  {
   "cell_type": "code",
   "execution_count": 16,
   "metadata": {
    "execution": {
     "iopub.execute_input": "2020-11-21T21:15:57.175366Z",
     "iopub.status.busy": "2020-11-21T21:15:57.174080Z",
     "iopub.status.idle": "2020-11-21T21:15:57.208154Z",
     "shell.execute_reply": "2020-11-21T21:15:57.207046Z"
    },
    "papermill": {
     "duration": 0.100126,
     "end_time": "2020-11-21T21:15:57.208309",
     "exception": false,
     "start_time": "2020-11-21T21:15:57.108183",
     "status": "completed"
    },
    "tags": []
   },
   "outputs": [],
   "source": [
    "df$Complaint.Types[internet] <- \"Internet\"\n",
    "df$Complaint.Types[billing] <- ifelse(is.na(df$Complaint.Types[billing]),\"Billing\",df$Complaint.Types[billing])\n",
    "df$Complaint.Types[data] <- ifelse(is.na(df$Complaint.Types[data]),\"Data\",df$Complaint.Types[data])\n",
    "df$Complaint.Types[cap] <- ifelse(is.na(df$Complaint.Types[cap]),\"Usage Cap\",df$Complaint.Types[cap])\n",
    "df$Complaint.Types[throttle] <- ifelse(is.na(df$Complaint.Types[throttle]),\"Throttling\",df$Complaint.Types[throttle])\n",
    "df$Complaint.Types[price] <- ifelse(is.na(df$Complaint.Types[price]),\"Price\",df$Complaint.Types[price])\n",
    "df$Complaint.Types[charge] <- ifelse(is.na(df$Complaint.Types[charge]),\"Charges\",df$Complaint.Types[charge])\n",
    "df$Complaint.Types[cable] <- ifelse(is.na(df$Complaint.Types[cable]),\"Cable\",df$Complaint.Types[cable])\n",
    "df$Complaint.Types[connect] <- ifelse(is.na(df$Complaint.Types[connect]),\"Connect\",df$Complaint.Types[connect])\n",
    "df$Complaint.Types[contract] <- ifelse(is.na(df$Complaint.Types[contract]),\"Contract\",df$Complaint.Types[contract])\n",
    "df$Complaint.Types[account] <- ifelse(is.na(df$Complaint.Types[account]),\"Account\",df$Complaint.Types[account])\n",
    "df$Complaint.Types[email] <- ifelse(is.na(df$Complaint.Types[email]),\"Email\",df$Complaint.Types[email])\n",
    "df$Complaint.Types[xfinity] <- ifelse(is.na(df$Complaint.Types[xfinity]),\"Xfinity\",df$Complaint.Types[xfinity])\n",
    "df$Complaint.Types[hbo] <- ifelse(is.na(df$Complaint.Types[hbo]),\"HBO\",df$Complaint.Types[hbo])"
   ]
  },
  {
   "cell_type": "markdown",
   "metadata": {
    "papermill": {
     "duration": 0.05786,
     "end_time": "2020-11-21T21:15:57.324988",
     "exception": false,
     "start_time": "2020-11-21T21:15:57.267128",
     "status": "completed"
    },
    "tags": []
   },
   "source": [
    "Now assigning Type= Others to rest of the complaints. This Others complains are very important to study. Above it can be seen that there are 16 Categories identified. Initially number of categories were lesser than that. Those incidents were part of Others category. Then I have checked if there are any such incident type that has multiple incidents and those are in Others category. A new tag/category has been created for such incidents. It is an iterative process. Thus number of incident categories have been increases and number of complaints/incidents in Others category reduced."
   ]
  },
  {
   "cell_type": "code",
   "execution_count": 17,
   "metadata": {
    "execution": {
     "iopub.execute_input": "2020-11-21T21:15:57.446117Z",
     "iopub.status.busy": "2020-11-21T21:15:57.444784Z",
     "iopub.status.idle": "2020-11-21T21:15:57.456754Z",
     "shell.execute_reply": "2020-11-21T21:15:57.455593Z"
    },
    "papermill": {
     "duration": 0.07403,
     "end_time": "2020-11-21T21:15:57.456895",
     "exception": false,
     "start_time": "2020-11-21T21:15:57.382865",
     "status": "completed"
    },
    "tags": []
   },
   "outputs": [],
   "source": [
    "#assigning \"Others\" for rest of the complaints\n",
    "df$Complaint.Types[-c(internet,billing,data,cap,throttle,price,charge,cable,connect,contract,account,email,xfinity,hbo,modem,service)]<- \"Others\""
   ]
  },
  {
   "cell_type": "code",
   "execution_count": 18,
   "metadata": {
    "execution": {
     "iopub.execute_input": "2020-11-21T21:15:57.577631Z",
     "iopub.status.busy": "2020-11-21T21:15:57.576421Z",
     "iopub.status.idle": "2020-11-21T21:15:57.592844Z",
     "shell.execute_reply": "2020-11-21T21:15:57.591615Z"
    },
    "papermill": {
     "duration": 0.078264,
     "end_time": "2020-11-21T21:15:57.593028",
     "exception": false,
     "start_time": "2020-11-21T21:15:57.514764",
     "status": "completed"
    },
    "tags": []
   },
   "outputs": [
    {
     "data": {
      "text/plain": [
       "\n",
       "   Account    Billing      Cable    Charges    Connect   Contract       Data \n",
       "        17        334         23         97         21         22        197 \n",
       "     Email        HBO   Internet     Others      Price Throttling  Usage Cap \n",
       "        12         25        532        560         36         41         15 \n",
       "   Xfinity \n",
       "        62 "
      ]
     },
     "metadata": {},
     "output_type": "display_data"
    }
   ],
   "source": [
    "#final table with the frequency of all complaint types\n",
    "table(df$Complaint.Types)"
   ]
  },
  {
   "cell_type": "markdown",
   "metadata": {
    "papermill": {
     "duration": 0.059215,
     "end_time": "2020-11-21T21:15:57.711642",
     "exception": false,
     "start_time": "2020-11-21T21:15:57.652427",
     "status": "completed"
    },
    "tags": []
   },
   "source": [
    "**Most of the complaints belong to Internet issues.**"
   ]
  },
  {
   "cell_type": "markdown",
   "metadata": {
    "papermill": {
     "duration": 0.058475,
     "end_time": "2020-11-21T21:15:57.828562",
     "exception": false,
     "start_time": "2020-11-21T21:15:57.770087",
     "status": "completed"
    },
    "tags": []
   },
   "source": [
    "**Creating df$complaint_status to store status Open or Closed:**"
   ]
  },
  {
   "cell_type": "code",
   "execution_count": 19,
   "metadata": {
    "execution": {
     "iopub.execute_input": "2020-11-21T21:15:57.973023Z",
     "iopub.status.busy": "2020-11-21T21:15:57.971652Z",
     "iopub.status.idle": "2020-11-21T21:15:57.988685Z",
     "shell.execute_reply": "2020-11-21T21:15:57.987511Z"
    },
    "papermill": {
     "duration": 0.079367,
     "end_time": "2020-11-21T21:15:57.988827",
     "exception": false,
     "start_time": "2020-11-21T21:15:57.909460",
     "status": "completed"
    },
    "tags": []
   },
   "outputs": [],
   "source": [
    "#new categorical variable with value as Open and Closed\n",
    "open_complaints <- (df$Status == \"Open\" | df$Status == \"Pending\")\n",
    "closed_complaints <- (df$Status == \"Closed\" | df$Status == \"Solved\")\n",
    "df$complaint_status[open_complaints] <- \"Open\" \n",
    "df$complaint_status[closed_complaints] <- \"Closed\""
   ]
  },
  {
   "cell_type": "markdown",
   "metadata": {
    "papermill": {
     "duration": 0.059168,
     "end_time": "2020-11-21T21:15:58.107078",
     "exception": false,
     "start_time": "2020-11-21T21:15:58.047910",
     "status": "completed"
    },
    "tags": []
   },
   "source": [
    "Deriving state wise status of complaints. It can be seen that few states are in upper-lower case mix in  State (e.g. District of Columbia and District Of Columbia both are present). To fix that issue I have created  state_lower by converting all state names in lowercase."
   ]
  },
  {
   "cell_type": "code",
   "execution_count": 20,
   "metadata": {
    "execution": {
     "iopub.execute_input": "2020-11-21T21:15:58.232254Z",
     "iopub.status.busy": "2020-11-21T21:15:58.230859Z",
     "iopub.status.idle": "2020-11-21T21:15:58.243415Z",
     "shell.execute_reply": "2020-11-21T21:15:58.242285Z"
    },
    "papermill": {
     "duration": 0.075935,
     "end_time": "2020-11-21T21:15:58.243563",
     "exception": false,
     "start_time": "2020-11-21T21:15:58.167628",
     "status": "completed"
    },
    "tags": []
   },
   "outputs": [],
   "source": [
    "#Statewise status of complains\n",
    "#few states are in upper-lower case mix (e.g. District of Columbia)\n",
    "df$state_lower <- tolower(df$State)"
   ]
  },
  {
   "cell_type": "markdown",
   "metadata": {
    "papermill": {
     "duration": 0.059005,
     "end_time": "2020-11-21T21:15:58.362364",
     "exception": false,
     "start_time": "2020-11-21T21:15:58.303359",
     "status": "completed"
    },
    "tags": []
   },
   "source": [
    "**Creating state wise status of complaints in a stacked bar chart:**"
   ]
  },
  {
   "cell_type": "code",
   "execution_count": 21,
   "metadata": {
    "execution": {
     "iopub.execute_input": "2020-11-21T21:15:58.485683Z",
     "iopub.status.busy": "2020-11-21T21:15:58.484381Z",
     "iopub.status.idle": "2020-11-21T21:15:58.900531Z",
     "shell.execute_reply": "2020-11-21T21:15:58.899731Z"
    },
    "papermill": {
     "duration": 0.479144,
     "end_time": "2020-11-21T21:15:58.900686",
     "exception": false,
     "start_time": "2020-11-21T21:15:58.421542",
     "status": "completed"
    },
    "tags": []
   },
   "outputs": [
    {
     "name": "stderr",
     "output_type": "stream",
     "text": [
      "`summarise()` regrouping output by 'state_lower' (override with `.groups` argument)\n",
      "\n"
     ]
    },
    {
     "data": {
      "image/png": "[encoded data removed]"
     },
     "metadata": {
      "image/png": {
       "height": 420,
       "width": 420
      }
     },
     "output_type": "display_data"
    }
   ],
   "source": [
    "#plot\n",
    "count_states <- summarise(group_by(df, state_lower, complaint_status), Count = n())\n",
    "ggplot(as.data.frame(count_states), aes(x = state_lower, y = Count))+\n",
    "  geom_col(aes(fill = complaint_status))+\n",
    "  theme(axis.text.x = element_text(angle = 90))+\n",
    "  labs(title = \"Complaint Status By States Stacked Bar Chart\", x = \"States\", y = \"No. of Complaints\", fill= \"Status\")"
   ]
  },
  {
   "cell_type": "markdown",
   "metadata": {
    "papermill": {
     "duration": 0.061851,
     "end_time": "2020-11-21T21:15:59.024529",
     "exception": false,
     "start_time": "2020-11-21T21:15:58.962678",
     "status": "completed"
    },
    "tags": []
   },
   "source": [
    "**Identifying the state that has maximum number of complaints (Open + Closed):**"
   ]
  },
  {
   "cell_type": "code",
   "execution_count": 22,
   "metadata": {
    "execution": {
     "iopub.execute_input": "2020-11-21T21:15:59.161920Z",
     "iopub.status.busy": "2020-11-21T21:15:59.160262Z",
     "iopub.status.idle": "2020-11-21T21:15:59.201748Z",
     "shell.execute_reply": "2020-11-21T21:15:59.199834Z"
    },
    "papermill": {
     "duration": 0.114964,
     "end_time": "2020-11-21T21:15:59.201974",
     "exception": false,
     "start_time": "2020-11-21T21:15:59.087010",
     "status": "completed"
    },
    "tags": []
   },
   "outputs": [
    {
     "name": "stderr",
     "output_type": "stream",
     "text": [
      "`summarise()` ungrouping output (override with `.groups` argument)\n",
      "\n"
     ]
    },
    {
     "data": {
      "text/html": [
       "<table class=\"dataframe\">\n",
       "<caption>A tibble: 1 × 2</caption>\n",
       "<thead>\n",
       "\t<tr><th scope=col>state_lower</th><th scope=col>Count</th></tr>\n",
       "\t<tr><th scope=col>&lt;chr&gt;</th><th scope=col>&lt;int&gt;</th></tr>\n",
       "</thead>\n",
       "<tbody>\n",
       "\t<tr><td>georgia</td><td>289</td></tr>\n",
       "</tbody>\n",
       "</table>\n"
      ],
      "text/latex": [
       "A tibble: 1 × 2\n",
       "\\begin{tabular}{ll}\n",
       " state\\_lower & Count\\\\\n",
       " <chr> & <int>\\\\\n",
       "\\hline\n",
       "\t georgia & 289\\\\\n",
       "\\end{tabular}\n"
      ],
      "text/markdown": [
       "\n",
       "A tibble: 1 × 2\n",
       "\n",
       "| state_lower &lt;chr&gt; | Count &lt;int&gt; |\n",
       "|---|---|\n",
       "| georgia | 289 |\n",
       "\n"
      ],
      "text/plain": [
       "  state_lower Count\n",
       "1 georgia     289  "
      ]
     },
     "metadata": {},
     "output_type": "display_data"
    }
   ],
   "source": [
    "#State having the maximum complaints (total)\n",
    "max_comp <- arrange(summarise(group_by(df, state_lower), Count = n()), desc(Count))\n",
    "max_comp[1,]"
   ]
  },
  {
   "cell_type": "markdown",
   "metadata": {
    "papermill": {
     "duration": 0.064476,
     "end_time": "2020-11-21T21:15:59.341202",
     "exception": false,
     "start_time": "2020-11-21T21:15:59.276726",
     "status": "completed"
    },
    "tags": []
   },
   "source": [
    "State having the maximum number of complaints (Open + Closed) is Georgia, having 289 complaints."
   ]
  },
  {
   "cell_type": "markdown",
   "metadata": {
    "papermill": {
     "duration": 0.063114,
     "end_time": "2020-11-21T21:15:59.468689",
     "exception": false,
     "start_time": "2020-11-21T21:15:59.405575",
     "status": "completed"
    },
    "tags": []
   },
   "source": [
    "**Now, Identifying the state that has maximum number of Open complaints:**"
   ]
  },
  {
   "cell_type": "code",
   "execution_count": 23,
   "metadata": {
    "execution": {
     "iopub.execute_input": "2020-11-21T21:15:59.607319Z",
     "iopub.status.busy": "2020-11-21T21:15:59.606169Z",
     "iopub.status.idle": "2020-11-21T21:15:59.640838Z",
     "shell.execute_reply": "2020-11-21T21:15:59.639710Z"
    },
    "papermill": {
     "duration": 0.109354,
     "end_time": "2020-11-21T21:15:59.641097",
     "exception": false,
     "start_time": "2020-11-21T21:15:59.531743",
     "status": "completed"
    },
    "tags": []
   },
   "outputs": [
    {
     "name": "stderr",
     "output_type": "stream",
     "text": [
      "`summarise()` ungrouping output (override with `.groups` argument)\n",
      "\n"
     ]
    },
    {
     "data": {
      "text/html": [
       "<table class=\"dataframe\">\n",
       "<caption>A tibble: 1 × 2</caption>\n",
       "<thead>\n",
       "\t<tr><th scope=col>state_lower</th><th scope=col>Count</th></tr>\n",
       "\t<tr><th scope=col>&lt;chr&gt;</th><th scope=col>&lt;int&gt;</th></tr>\n",
       "</thead>\n",
       "<tbody>\n",
       "\t<tr><td>georgia</td><td>81</td></tr>\n",
       "</tbody>\n",
       "</table>\n"
      ],
      "text/latex": [
       "A tibble: 1 × 2\n",
       "\\begin{tabular}{ll}\n",
       " state\\_lower & Count\\\\\n",
       " <chr> & <int>\\\\\n",
       "\\hline\n",
       "\t georgia & 81\\\\\n",
       "\\end{tabular}\n"
      ],
      "text/markdown": [
       "\n",
       "A tibble: 1 × 2\n",
       "\n",
       "| state_lower &lt;chr&gt; | Count &lt;int&gt; |\n",
       "|---|---|\n",
       "| georgia | 81 |\n",
       "\n"
      ],
      "text/plain": [
       "  state_lower Count\n",
       "1 georgia     81   "
      ]
     },
     "metadata": {},
     "output_type": "display_data"
    }
   ],
   "source": [
    "#State having the maximum Open complaints\n",
    "max_open_comp <- arrange(summarise(group_by(filter(df, complaint_status == \"Open\"), state_lower), Count = n()), desc(Count))\n",
    "max_open_comp[1,]"
   ]
  },
  {
   "cell_type": "markdown",
   "metadata": {
    "papermill": {
     "duration": 0.06437,
     "end_time": "2020-11-21T21:15:59.774010",
     "exception": false,
     "start_time": "2020-11-21T21:15:59.709640",
     "status": "completed"
    },
    "tags": []
   },
   "source": [
    "State having the maximum number of Open complaints is Georgia, having 81 Open complaints."
   ]
  },
  {
   "cell_type": "markdown",
   "metadata": {
    "papermill": {
     "duration": 0.064191,
     "end_time": "2020-11-21T21:15:59.902425",
     "exception": false,
     "start_time": "2020-11-21T21:15:59.838234",
     "status": "completed"
    },
    "tags": []
   },
   "source": [
    "**Identifying the state having the highest percentage of unresolved complaints:**"
   ]
  },
  {
   "cell_type": "code",
   "execution_count": 24,
   "metadata": {
    "execution": {
     "iopub.execute_input": "2020-11-21T21:16:00.035866Z",
     "iopub.status.busy": "2020-11-21T21:16:00.034589Z",
     "iopub.status.idle": "2020-11-21T21:16:00.064055Z",
     "shell.execute_reply": "2020-11-21T21:16:00.062857Z"
    },
    "papermill": {
     "duration": 0.097573,
     "end_time": "2020-11-21T21:16:00.064198",
     "exception": false,
     "start_time": "2020-11-21T21:15:59.966625",
     "status": "completed"
    },
    "tags": []
   },
   "outputs": [
    {
     "data": {
      "text/html": [
       "<table class=\"dataframe\">\n",
       "<caption>A data.frame: 1 × 4</caption>\n",
       "<thead>\n",
       "\t<tr><th></th><th scope=col>state_lower</th><th scope=col>Count.x</th><th scope=col>Count.y</th><th scope=col>% unresolved</th></tr>\n",
       "\t<tr><th></th><th scope=col>&lt;chr&gt;</th><th scope=col>&lt;int&gt;</th><th scope=col>&lt;dbl&gt;</th><th scope=col>&lt;dbl&gt;</th></tr>\n",
       "</thead>\n",
       "<tbody>\n",
       "\t<tr><th scope=row>1</th><td>kansas</td><td>2</td><td>1</td><td>50</td></tr>\n",
       "</tbody>\n",
       "</table>\n"
      ],
      "text/latex": [
       "A data.frame: 1 × 4\n",
       "\\begin{tabular}{r|llll}\n",
       "  & state\\_lower & Count.x & Count.y & \\% unresolved\\\\\n",
       "  & <chr> & <int> & <dbl> & <dbl>\\\\\n",
       "\\hline\n",
       "\t1 & kansas & 2 & 1 & 50\\\\\n",
       "\\end{tabular}\n"
      ],
      "text/markdown": [
       "\n",
       "A data.frame: 1 × 4\n",
       "\n",
       "| <!--/--> | state_lower &lt;chr&gt; | Count.x &lt;int&gt; | Count.y &lt;dbl&gt; | % unresolved &lt;dbl&gt; |\n",
       "|---|---|---|---|---|\n",
       "| 1 | kansas | 2 | 1 | 50 |\n",
       "\n"
      ],
      "text/plain": [
       "  state_lower Count.x Count.y % unresolved\n",
       "1 kansas      2       1       50          "
      ]
     },
     "metadata": {},
     "output_type": "display_data"
    }
   ],
   "source": [
    "#State having the highest percentage of unresolved complaints\n",
    "count_by_states <- merge(x = max_comp, y = max_open_comp, by = \"state_lower\", all.x = TRUE)\n",
    "count_by_states$Count.y <- ifelse(is.na(count_by_states$Count.y),0,count_by_states$Count.y)\n",
    "count_by_states <- cbind(count_by_states, \"% unresolved\" = count_by_states$Count.y / count_by_states$Count.x * 100)\n",
    "count_by_states <- arrange(count_by_states, desc(count_by_states[\"% unresolved\"]))\n",
    "count_by_states[1,]"
   ]
  },
  {
   "cell_type": "markdown",
   "metadata": {
    "papermill": {
     "duration": 0.065573,
     "end_time": "2020-11-21T21:16:00.195388",
     "exception": false,
     "start_time": "2020-11-21T21:16:00.129815",
     "status": "completed"
    },
    "tags": []
   },
   "source": [
    "State having the highest percentage of unresolved complaints is Kansas. It has 2 total complaints out of which 1 is unresolved. So, it’s 50%."
   ]
  },
  {
   "cell_type": "code",
   "execution_count": 25,
   "metadata": {
    "execution": {
     "iopub.execute_input": "2020-11-21T21:16:00.332337Z",
     "iopub.status.busy": "2020-11-21T21:16:00.331031Z",
     "iopub.status.idle": "2020-11-21T21:16:00.355873Z",
     "shell.execute_reply": "2020-11-21T21:16:00.354699Z"
    },
    "papermill": {
     "duration": 0.093922,
     "end_time": "2020-11-21T21:16:00.356039",
     "exception": false,
     "start_time": "2020-11-21T21:16:00.262117",
     "status": "completed"
    },
    "tags": []
   },
   "outputs": [
    {
     "data": {
      "text/html": [
       "'Internet'"
      ],
      "text/latex": [
       "'Internet'"
      ],
      "text/markdown": [
       "'Internet'"
      ],
      "text/plain": [
       "[1] \"Internet\""
      ]
     },
     "metadata": {},
     "output_type": "display_data"
    },
    {
     "data": {
      "text/html": [
       "<table class=\"dataframe\">\n",
       "<caption>A matrix: 1 × 3 of type dbl</caption>\n",
       "<thead>\n",
       "\t<tr><th></th><th scope=col>Closed</th><th scope=col>Open</th><th scope=col>Total</th></tr>\n",
       "</thead>\n",
       "<tbody>\n",
       "\t<tr><th scope=row>Internet</th><td>1707</td><td>518</td><td>2225</td></tr>\n",
       "</tbody>\n",
       "</table>\n"
      ],
      "text/latex": [
       "A matrix: 1 × 3 of type dbl\n",
       "\\begin{tabular}{r|lll}\n",
       "  & Closed & Open & Total\\\\\n",
       "\\hline\n",
       "\tInternet & 1707 & 518 & 2225\\\\\n",
       "\\end{tabular}\n"
      ],
      "text/markdown": [
       "\n",
       "A matrix: 1 × 3 of type dbl\n",
       "\n",
       "| <!--/--> | Closed | Open | Total |\n",
       "|---|---|---|---|\n",
       "| Internet | 1707 | 518 | 2225 |\n",
       "\n"
      ],
      "text/plain": [
       "         Closed Open Total\n",
       "Internet 1707   518  2225 "
      ]
     },
     "metadata": {},
     "output_type": "display_data"
    }
   ],
   "source": [
    "#percentage of complaints resolved till date, received through the Internet and customer care calls\n",
    "levels(as.factor(df$Received.Via))\n",
    "df2 <- table(df$Received.Via, df$complaint_status)\n",
    "df2 <- cbind(df2, Total = rowSums(df2))\n",
    "df2"
   ]
  },
  {
   "cell_type": "markdown",
   "metadata": {
    "papermill": {
     "duration": 0.066969,
     "end_time": "2020-11-21T21:16:00.490170",
     "exception": false,
     "start_time": "2020-11-21T21:16:00.423201",
     "status": "completed"
    },
    "tags": []
   },
   "source": [
    "**Calculating and plotting total Closed and Open Complaints percentage:**"
   ]
  },
  {
   "cell_type": "code",
   "execution_count": 26,
   "metadata": {
    "execution": {
     "iopub.execute_input": "2020-11-21T21:16:00.629590Z",
     "iopub.status.busy": "2020-11-21T21:16:00.628298Z",
     "iopub.status.idle": "2020-11-21T21:16:00.727988Z",
     "shell.execute_reply": "2020-11-21T21:16:00.727021Z"
    },
    "papermill": {
     "duration": 0.170801,
     "end_time": "2020-11-21T21:16:00.728142",
     "exception": false,
     "start_time": "2020-11-21T21:16:00.557341",
     "status": "completed"
    },
    "tags": []
   },
   "outputs": [
    {
     "data": {
      "image/png": "[encoded data removed]"
     },
     "metadata": {
      "image/png": {
       "height": 420,
       "width": 420
      }
     },
     "output_type": "display_data"
    }
   ],
   "source": [
    "# Pie Chart for Total Closed and Open Complaints\n",
    "slices <- c(1707, 517)\n",
    "names <- c(\"Total Closed\", \"Total Open\")\n",
    "slices_per <- round(slices/sum(slices)*100)\n",
    "slices_per <- as.character(slices_per)\n",
    "slices_names_per <- paste(names, slices_per,\"%\")\n",
    "pie(x=slices,labels = slices_names_per, col=rainbow(length(names)),\n",
    "    main=\"Pie Chart of Total Open and Closed Complaints\")"
   ]
  },
  {
   "cell_type": "markdown",
   "metadata": {
    "papermill": {
     "duration": 0.069933,
     "end_time": "2020-11-21T21:16:00.867324",
     "exception": false,
     "start_time": "2020-11-21T21:16:00.797391",
     "status": "completed"
    },
    "tags": []
   },
   "source": [
    "**Calculating and plotting Closed and Open Complaints received via Customer Care Calls:**"
   ]
  },
  {
   "cell_type": "code",
   "execution_count": 27,
   "metadata": {
    "execution": {
     "iopub.execute_input": "2020-11-21T21:16:01.013079Z",
     "iopub.status.busy": "2020-11-21T21:16:01.011685Z",
     "iopub.status.idle": "2020-11-21T21:16:01.104519Z",
     "shell.execute_reply": "2020-11-21T21:16:01.103646Z"
    },
    "papermill": {
     "duration": 0.165163,
     "end_time": "2020-11-21T21:16:01.104667",
     "exception": false,
     "start_time": "2020-11-21T21:16:00.939504",
     "status": "completed"
    },
    "tags": []
   },
   "outputs": [
    {
     "data": {
      "image/png": "[encoded data removed]"
     },
     "metadata": {
      "image/png": {
       "height": 420,
       "width": 420
      }
     },
     "output_type": "display_data"
    }
   ],
   "source": [
    "# Pie Chart for Closed and Open Complaints received via Customer Care Calls\n",
    "slices1 <- c(864, 255)\n",
    "names1 <- c(\"Closed\", \"Open\")\n",
    "slices_per1 <- round(slices1/sum(slices1)*100)\n",
    "slices_per1 <- as.character(slices_per1)\n",
    "slices_names_per1 <- paste(names1, slices_per1,\"%\")\n",
    "pie(x=slices1,labels = slices_names_per1, col=rainbow(length(names1)),\n",
    "    main=\"Closed and Open Complaints received via CC Calls\")"
   ]
  },
  {
   "cell_type": "markdown",
   "metadata": {
    "papermill": {
     "duration": 0.070437,
     "end_time": "2020-11-21T21:16:01.245792",
     "exception": false,
     "start_time": "2020-11-21T21:16:01.175355",
     "status": "completed"
    },
    "tags": []
   },
   "source": [
    "**Calculating and plotting Closed and Open Complaints received via Internet:**"
   ]
  },
  {
   "cell_type": "code",
   "execution_count": 28,
   "metadata": {
    "execution": {
     "iopub.execute_input": "2020-11-21T21:16:01.390883Z",
     "iopub.status.busy": "2020-11-21T21:16:01.389566Z",
     "iopub.status.idle": "2020-11-21T21:16:01.487411Z",
     "shell.execute_reply": "2020-11-21T21:16:01.486604Z"
    },
    "papermill": {
     "duration": 0.171475,
     "end_time": "2020-11-21T21:16:01.487553",
     "exception": false,
     "start_time": "2020-11-21T21:16:01.316078",
     "status": "completed"
    },
    "tags": []
   },
   "outputs": [
    {
     "data": {
      "image/png": "[encoded data removed]"
     },
     "metadata": {
      "image/png": {
       "height": 420,
       "width": 420
      }
     },
     "output_type": "display_data"
    }
   ],
   "source": [
    "# Pie Chart for Closed and Open Complaints received via Internet\n",
    "slices2 <- c(843, 262)\n",
    "names2 <- c(\"Closed\", \"Open\")\n",
    "slices_per2 <- round(slices2/sum(slices2)*100)\n",
    "slices_per2 <- as.character(slices_per2)\n",
    "slices_names_per2 <- paste(names2, slices_per2,\"%\")\n",
    "pie(x=slices2,labels = slices_names_per2, col=rainbow(length(names2)),\n",
    "    main=\"Closed and Open Complaints received via Internet\")"
   ]
  },
  {
   "cell_type": "markdown",
   "metadata": {
    "papermill": {
     "duration": 0.071764,
     "end_time": "2020-11-21T21:16:01.631868",
     "exception": false,
     "start_time": "2020-11-21T21:16:01.560104",
     "status": "completed"
    },
    "tags": []
   },
   "source": [
    "**Calculating and plotting All Closed Complaints that are received via Internet and received via Customer Care Calls:**"
   ]
  },
  {
   "cell_type": "code",
   "execution_count": 29,
   "metadata": {
    "execution": {
     "iopub.execute_input": "2020-11-21T21:16:01.780627Z",
     "iopub.status.busy": "2020-11-21T21:16:01.779452Z",
     "iopub.status.idle": "2020-11-21T21:16:01.871598Z",
     "shell.execute_reply": "2020-11-21T21:16:01.870912Z"
    },
    "papermill": {
     "duration": 0.167303,
     "end_time": "2020-11-21T21:16:01.871743",
     "exception": false,
     "start_time": "2020-11-21T21:16:01.704440",
     "status": "completed"
    },
    "tags": []
   },
   "outputs": [
    {
     "data": {
      "image/png": "[encoded data removed]"
     },
     "metadata": {
      "image/png": {
       "height": 420,
       "width": 420
      }
     },
     "output_type": "display_data"
    }
   ],
   "source": [
    "# Pie Chart for Total Closed Complaints received via Internet and Customer Care Call\n",
    "slices3 <- c(864, 843)\n",
    "names3 <- c(\"Customer Care Call\", \"Internet\")\n",
    "slices_per3 <- round(slices3/sum(slices3)*100)\n",
    "slices_per3 <- as.character(slices_per3)\n",
    "slices_names_per3 <- paste(names3, slices_per3,\"%\")\n",
    "pie(x=slices3,labels = slices_names_per3, col=rainbow(length(names3)),\n",
    "    main=\"Total Closed Complaints received via Internet and CC Calls\")"
   ]
  },
  {
   "cell_type": "markdown",
   "metadata": {
    "papermill": {
     "duration": 0.072897,
     "end_time": "2020-11-21T21:16:02.018106",
     "exception": false,
     "start_time": "2020-11-21T21:16:01.945209",
     "status": "completed"
    },
    "tags": []
   },
   "source": [
    "From the Pie chart above it can be seen that Total Resolved complaints is 77% and total Unresolved complaints is 23%.\n",
    "For Complaints, received via Customer Care Call, 77% are Closed and 23% are Open.\n",
    "For Complaints, received via the Internet 76% are Closed and 24% are Open.\n",
    "For all complaints which are Resolved/Closed, 51% of those were received via Customer Care Call and the rest of 49% were received via Internet.\n"
   ]
  },
  {
   "cell_type": "markdown",
   "metadata": {
    "papermill": {
     "duration": 0.072995,
     "end_time": "2020-11-21T21:16:02.164563",
     "exception": false,
     "start_time": "2020-11-21T21:16:02.091568",
     "status": "completed"
    },
    "tags": []
   },
   "source": [
    "# Insights:"
   ]
  },
  {
   "cell_type": "markdown",
   "metadata": {
    "papermill": {
     "duration": 0.072966,
     "end_time": "2020-11-21T21:16:02.310831",
     "exception": false,
     "start_time": "2020-11-21T21:16:02.237865",
     "status": "completed"
    },
    "tags": []
   },
   "source": [
    "* According to the above analysis, it can be seen that complaints are higher between 12th June and 30th June. To be more precise on 23rd, 24th and 25th June there are sudden spikes of daily complaints. \n",
    "* Most of these complaints are related to Internet Service and Billing related issues. Few other major complaints are related to Data, Usage Caps, Speed Throttling and Charges related. \n",
    "* Highest amount of complaints has been received from Georgia. It also has the highest number of Open complaints.\n",
    "* For Complaints, received via Customer Care Call, 77% are Closed and 23% are Open.\n",
    "* For Complaints, received via the Internet 76% are Closed and 24% are Open. \n",
    "* It can be concluded that there is no discrepancy in resolving complaints between complaints logged via Customer Care call and logged via Internet. \n",
    "* Out of all complaints 77% are already closed and 23% complaints are still open."
   ]
  }
 ],
 "metadata": {
  "kernelspec": {
   "display_name": "R",
   "language": "R",
   "name": "ir"
  },
  "language_info": {
   "codemirror_mode": "r",
   "file_extension": ".r",
   "mimetype": "text/x-r-source",
   "name": "R",
   "pygments_lexer": "r",
   "version": "3.6.3"
  },
  "papermill": {
   "default_parameters": {},
   "duration": 14.636605,
   "end_time": "2020-11-21T21:16:02.492116",
   "environment_variables": {},
   "exception": null,
   "input_path": "__notebook__.ipynb",
   "output_path": "__notebook__.ipynb",
   "parameters": {},
   "start_time": "2020-11-21T21:15:47.855511",
   "version": "2.2.2"
  }
 },
 "nbformat": 4,
 "nbformat_minor": 4
}
